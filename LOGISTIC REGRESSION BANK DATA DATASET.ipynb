{
 "cells": [
  {
   "cell_type": "markdown",
   "metadata": {
    "papermill": {
     "duration": 0.037916,
     "end_time": "2021-03-31T19:35:57.493556",
     "exception": false,
     "start_time": "2021-03-31T19:35:57.455640",
     "status": "completed"
    },
    "tags": []
   },
   "source": [
    "# Logistic Regression\n"
   ]
  },
  {
   "cell_type": "code",
   "execution_count": 1,
   "metadata": {
    "execution": {
     "iopub.execute_input": "2021-03-31T19:35:57.903631Z",
     "iopub.status.busy": "2021-03-31T19:35:57.902985Z",
     "iopub.status.idle": "2021-03-31T19:35:59.360841Z",
     "shell.execute_reply": "2021-03-31T19:35:59.359932Z"
    },
    "papermill": {
     "duration": 1.494742,
     "end_time": "2021-03-31T19:35:59.361049",
     "exception": false,
     "start_time": "2021-03-31T19:35:57.866307",
     "status": "completed"
    },
    "tags": []
   },
   "outputs": [],
   "source": [
    "import warnings\n",
    "warnings.filterwarnings('ignore')\n",
    "\n",
    "import numpy as np\n",
    "import matplotlib.pyplot as plt\n",
    "import pandas as pd\n",
    "import numpy as np\n",
    "import seaborn as sns\n",
    "import sys\n",
    "from sklearn.linear_model import LogisticRegression\n",
    "from sklearn.preprocessing import StandardScaler\n",
    "from sklearn.feature_selection import RFE\n",
    "from sklearn.model_selection import train_test_split\n",
    "from sklearn.preprocessing import OrdinalEncoder\n",
    "from sklearn.preprocessing import OneHotEncoder\n",
    "from sklearn.preprocessing import LabelEncoder\n",
    "from sklearn.compose import ColumnTransformer\n",
    "from sklearn.pipeline import Pipeline\n",
    "from sklearn.impute import SimpleImputer\n",
    "from collections import Counter"
   ]
  },
  {
   "cell_type": "code",
   "execution_count": 3,
   "metadata": {
    "execution": {
     "iopub.execute_input": "2021-03-31T19:35:59.535662Z",
     "iopub.status.busy": "2021-03-31T19:35:59.533018Z",
     "iopub.status.idle": "2021-03-31T19:35:59.538863Z",
     "shell.execute_reply": "2021-03-31T19:35:59.538326Z"
    },
    "papermill": {
     "duration": 0.061004,
     "end_time": "2021-03-31T19:35:59.539026",
     "exception": false,
     "start_time": "2021-03-31T19:35:59.478022",
     "status": "completed"
    },
    "tags": []
   },
   "outputs": [],
   "source": [
    "%config Completer.use_jedi = False\n",
    "\n",
    "sns.set(style=\"white\")\n",
    "sns.set(style=\"whitegrid\", color_codes=True)\n",
    "\n",
    "np.set_printoptions(threshold=sys.maxsize)\n",
    "\n",
    "pd.set_option('display.max_rows', 500)\n",
    "pd.set_option('display.max_columns', 500)\n",
    "%matplotlib inline"
   ]
  },
  {
   "cell_type": "code",
   "execution_count": 4,
   "metadata": {
    "execution": {
     "iopub.execute_input": "2021-03-31T19:35:59.613962Z",
     "iopub.status.busy": "2021-03-31T19:35:59.613239Z",
     "iopub.status.idle": "2021-03-31T19:35:59.844356Z",
     "shell.execute_reply": "2021-03-31T19:35:59.843581Z"
    },
    "papermill": {
     "duration": 0.270758,
     "end_time": "2021-03-31T19:35:59.844535",
     "exception": false,
     "start_time": "2021-03-31T19:35:59.573777",
     "status": "completed"
    },
    "scrolled": true,
    "tags": []
   },
   "outputs": [
    {
     "data": {
      "text/html": [
       "<div>\n",
       "<style scoped>\n",
       "    .dataframe tbody tr th:only-of-type {\n",
       "        vertical-align: middle;\n",
       "    }\n",
       "\n",
       "    .dataframe tbody tr th {\n",
       "        vertical-align: top;\n",
       "    }\n",
       "\n",
       "    .dataframe thead th {\n",
       "        text-align: right;\n",
       "    }\n",
       "</style>\n",
       "<table border=\"1\" class=\"dataframe\">\n",
       "  <thead>\n",
       "    <tr style=\"text-align: right;\">\n",
       "      <th></th>\n",
       "      <th>age</th>\n",
       "      <th>job</th>\n",
       "      <th>marital</th>\n",
       "      <th>education</th>\n",
       "      <th>default</th>\n",
       "      <th>balance</th>\n",
       "      <th>housing</th>\n",
       "      <th>loan</th>\n",
       "      <th>contact</th>\n",
       "      <th>day</th>\n",
       "      <th>month</th>\n",
       "      <th>duration</th>\n",
       "      <th>campaign</th>\n",
       "      <th>pdays</th>\n",
       "      <th>previous</th>\n",
       "      <th>poutcome</th>\n",
       "      <th>y</th>\n",
       "    </tr>\n",
       "  </thead>\n",
       "  <tbody>\n",
       "    <tr>\n",
       "      <th>0</th>\n",
       "      <td>58</td>\n",
       "      <td>management</td>\n",
       "      <td>married</td>\n",
       "      <td>tertiary</td>\n",
       "      <td>no</td>\n",
       "      <td>2143</td>\n",
       "      <td>yes</td>\n",
       "      <td>no</td>\n",
       "      <td>unknown</td>\n",
       "      <td>5</td>\n",
       "      <td>may</td>\n",
       "      <td>261</td>\n",
       "      <td>1</td>\n",
       "      <td>-1</td>\n",
       "      <td>0</td>\n",
       "      <td>unknown</td>\n",
       "      <td>no</td>\n",
       "    </tr>\n",
       "    <tr>\n",
       "      <th>1</th>\n",
       "      <td>44</td>\n",
       "      <td>technician</td>\n",
       "      <td>single</td>\n",
       "      <td>secondary</td>\n",
       "      <td>no</td>\n",
       "      <td>29</td>\n",
       "      <td>yes</td>\n",
       "      <td>no</td>\n",
       "      <td>unknown</td>\n",
       "      <td>5</td>\n",
       "      <td>may</td>\n",
       "      <td>151</td>\n",
       "      <td>1</td>\n",
       "      <td>-1</td>\n",
       "      <td>0</td>\n",
       "      <td>unknown</td>\n",
       "      <td>no</td>\n",
       "    </tr>\n",
       "    <tr>\n",
       "      <th>2</th>\n",
       "      <td>33</td>\n",
       "      <td>entrepreneur</td>\n",
       "      <td>married</td>\n",
       "      <td>secondary</td>\n",
       "      <td>no</td>\n",
       "      <td>2</td>\n",
       "      <td>yes</td>\n",
       "      <td>yes</td>\n",
       "      <td>unknown</td>\n",
       "      <td>5</td>\n",
       "      <td>may</td>\n",
       "      <td>76</td>\n",
       "      <td>1</td>\n",
       "      <td>-1</td>\n",
       "      <td>0</td>\n",
       "      <td>unknown</td>\n",
       "      <td>no</td>\n",
       "    </tr>\n",
       "    <tr>\n",
       "      <th>3</th>\n",
       "      <td>47</td>\n",
       "      <td>blue-collar</td>\n",
       "      <td>married</td>\n",
       "      <td>unknown</td>\n",
       "      <td>no</td>\n",
       "      <td>1506</td>\n",
       "      <td>yes</td>\n",
       "      <td>no</td>\n",
       "      <td>unknown</td>\n",
       "      <td>5</td>\n",
       "      <td>may</td>\n",
       "      <td>92</td>\n",
       "      <td>1</td>\n",
       "      <td>-1</td>\n",
       "      <td>0</td>\n",
       "      <td>unknown</td>\n",
       "      <td>no</td>\n",
       "    </tr>\n",
       "    <tr>\n",
       "      <th>4</th>\n",
       "      <td>33</td>\n",
       "      <td>unknown</td>\n",
       "      <td>single</td>\n",
       "      <td>unknown</td>\n",
       "      <td>no</td>\n",
       "      <td>1</td>\n",
       "      <td>no</td>\n",
       "      <td>no</td>\n",
       "      <td>unknown</td>\n",
       "      <td>5</td>\n",
       "      <td>may</td>\n",
       "      <td>198</td>\n",
       "      <td>1</td>\n",
       "      <td>-1</td>\n",
       "      <td>0</td>\n",
       "      <td>unknown</td>\n",
       "      <td>no</td>\n",
       "    </tr>\n",
       "  </tbody>\n",
       "</table>\n",
       "</div>"
      ],
      "text/plain": [
       "   age           job  marital  education default  balance housing loan  \\\n",
       "0   58    management  married   tertiary      no     2143     yes   no   \n",
       "1   44    technician   single  secondary      no       29     yes   no   \n",
       "2   33  entrepreneur  married  secondary      no        2     yes  yes   \n",
       "3   47   blue-collar  married    unknown      no     1506     yes   no   \n",
       "4   33       unknown   single    unknown      no        1      no   no   \n",
       "\n",
       "   contact  day month  duration  campaign  pdays  previous poutcome   y  \n",
       "0  unknown    5   may       261         1     -1         0  unknown  no  \n",
       "1  unknown    5   may       151         1     -1         0  unknown  no  \n",
       "2  unknown    5   may        76         1     -1         0  unknown  no  \n",
       "3  unknown    5   may        92         1     -1         0  unknown  no  \n",
       "4  unknown    5   may       198         1     -1         0  unknown  no  "
      ]
     },
     "execution_count": 4,
     "metadata": {},
     "output_type": "execute_result"
    }
   ],
   "source": [
    "df = pd.read_csv('bank-full.csv',sep=\";\")\n",
    "df.head()"
   ]
  },
  {
   "cell_type": "code",
   "execution_count": 5,
   "metadata": {
    "execution": {
     "iopub.execute_input": "2021-03-31T19:35:59.932885Z",
     "iopub.status.busy": "2021-03-31T19:35:59.931856Z",
     "iopub.status.idle": "2021-03-31T19:35:59.936403Z",
     "shell.execute_reply": "2021-03-31T19:35:59.937194Z"
    },
    "papermill": {
     "duration": 0.04904,
     "end_time": "2021-03-31T19:35:59.937455",
     "exception": false,
     "start_time": "2021-03-31T19:35:59.888415",
     "status": "completed"
    },
    "scrolled": true,
    "tags": []
   },
   "outputs": [
    {
     "data": {
      "text/plain": [
       "(45211, 17)"
      ]
     },
     "execution_count": 5,
     "metadata": {},
     "output_type": "execute_result"
    }
   ],
   "source": [
    "df.shape"
   ]
  },
  {
   "cell_type": "code",
   "execution_count": 6,
   "metadata": {
    "execution": {
     "iopub.execute_input": "2021-03-31T19:36:00.090833Z",
     "iopub.status.busy": "2021-03-31T19:36:00.089649Z",
     "iopub.status.idle": "2021-03-31T19:36:00.110358Z",
     "shell.execute_reply": "2021-03-31T19:36:00.110908Z"
    },
    "papermill": {
     "duration": 0.122407,
     "end_time": "2021-03-31T19:36:00.111086",
     "exception": false,
     "start_time": "2021-03-31T19:35:59.988679",
     "status": "completed"
    },
    "scrolled": true,
    "tags": []
   },
   "outputs": [
    {
     "name": "stdout",
     "output_type": "stream",
     "text": [
      "<class 'pandas.core.frame.DataFrame'>\n",
      "RangeIndex: 45211 entries, 0 to 45210\n",
      "Data columns (total 17 columns):\n",
      " #   Column     Non-Null Count  Dtype \n",
      "---  ------     --------------  ----- \n",
      " 0   age        45211 non-null  int64 \n",
      " 1   job        45211 non-null  object\n",
      " 2   marital    45211 non-null  object\n",
      " 3   education  45211 non-null  object\n",
      " 4   default    45211 non-null  object\n",
      " 5   balance    45211 non-null  int64 \n",
      " 6   housing    45211 non-null  object\n",
      " 7   loan       45211 non-null  object\n",
      " 8   contact    45211 non-null  object\n",
      " 9   day        45211 non-null  int64 \n",
      " 10  month      45211 non-null  object\n",
      " 11  duration   45211 non-null  int64 \n",
      " 12  campaign   45211 non-null  int64 \n",
      " 13  pdays      45211 non-null  int64 \n",
      " 14  previous   45211 non-null  int64 \n",
      " 15  poutcome   45211 non-null  object\n",
      " 16  y          45211 non-null  object\n",
      "dtypes: int64(7), object(10)\n",
      "memory usage: 5.9+ MB\n"
     ]
    }
   ],
   "source": [
    "df.info()"
   ]
  },
  {
   "cell_type": "code",
   "execution_count": 7,
   "metadata": {
    "execution": {
     "iopub.execute_input": "2021-03-31T19:36:00.193735Z",
     "iopub.status.busy": "2021-03-31T19:36:00.192743Z",
     "iopub.status.idle": "2021-03-31T19:36:00.239034Z",
     "shell.execute_reply": "2021-03-31T19:36:00.238230Z"
    },
    "papermill": {
     "duration": 0.091413,
     "end_time": "2021-03-31T19:36:00.239256",
     "exception": false,
     "start_time": "2021-03-31T19:36:00.147843",
     "status": "completed"
    },
    "scrolled": true,
    "tags": []
   },
   "outputs": [
    {
     "data": {
      "text/html": [
       "<div>\n",
       "<style scoped>\n",
       "    .dataframe tbody tr th:only-of-type {\n",
       "        vertical-align: middle;\n",
       "    }\n",
       "\n",
       "    .dataframe tbody tr th {\n",
       "        vertical-align: top;\n",
       "    }\n",
       "\n",
       "    .dataframe thead th {\n",
       "        text-align: right;\n",
       "    }\n",
       "</style>\n",
       "<table border=\"1\" class=\"dataframe\">\n",
       "  <thead>\n",
       "    <tr style=\"text-align: right;\">\n",
       "      <th></th>\n",
       "      <th>age</th>\n",
       "      <th>balance</th>\n",
       "      <th>day</th>\n",
       "      <th>duration</th>\n",
       "      <th>campaign</th>\n",
       "      <th>pdays</th>\n",
       "      <th>previous</th>\n",
       "    </tr>\n",
       "  </thead>\n",
       "  <tbody>\n",
       "    <tr>\n",
       "      <th>count</th>\n",
       "      <td>45211</td>\n",
       "      <td>45211</td>\n",
       "      <td>45211</td>\n",
       "      <td>45211</td>\n",
       "      <td>45211</td>\n",
       "      <td>45211</td>\n",
       "      <td>45211</td>\n",
       "    </tr>\n",
       "    <tr>\n",
       "      <th>mean</th>\n",
       "      <td>40</td>\n",
       "      <td>1362</td>\n",
       "      <td>15</td>\n",
       "      <td>258</td>\n",
       "      <td>2</td>\n",
       "      <td>40</td>\n",
       "      <td>0</td>\n",
       "    </tr>\n",
       "    <tr>\n",
       "      <th>std</th>\n",
       "      <td>10</td>\n",
       "      <td>3044</td>\n",
       "      <td>8</td>\n",
       "      <td>257</td>\n",
       "      <td>3</td>\n",
       "      <td>100</td>\n",
       "      <td>2</td>\n",
       "    </tr>\n",
       "    <tr>\n",
       "      <th>min</th>\n",
       "      <td>18</td>\n",
       "      <td>-8019</td>\n",
       "      <td>1</td>\n",
       "      <td>0</td>\n",
       "      <td>1</td>\n",
       "      <td>-1</td>\n",
       "      <td>0</td>\n",
       "    </tr>\n",
       "    <tr>\n",
       "      <th>25%</th>\n",
       "      <td>33</td>\n",
       "      <td>72</td>\n",
       "      <td>8</td>\n",
       "      <td>103</td>\n",
       "      <td>1</td>\n",
       "      <td>-1</td>\n",
       "      <td>0</td>\n",
       "    </tr>\n",
       "    <tr>\n",
       "      <th>50%</th>\n",
       "      <td>39</td>\n",
       "      <td>448</td>\n",
       "      <td>16</td>\n",
       "      <td>180</td>\n",
       "      <td>2</td>\n",
       "      <td>-1</td>\n",
       "      <td>0</td>\n",
       "    </tr>\n",
       "    <tr>\n",
       "      <th>75%</th>\n",
       "      <td>48</td>\n",
       "      <td>1428</td>\n",
       "      <td>21</td>\n",
       "      <td>319</td>\n",
       "      <td>3</td>\n",
       "      <td>-1</td>\n",
       "      <td>0</td>\n",
       "    </tr>\n",
       "    <tr>\n",
       "      <th>max</th>\n",
       "      <td>95</td>\n",
       "      <td>102127</td>\n",
       "      <td>31</td>\n",
       "      <td>4918</td>\n",
       "      <td>63</td>\n",
       "      <td>871</td>\n",
       "      <td>275</td>\n",
       "    </tr>\n",
       "  </tbody>\n",
       "</table>\n",
       "</div>"
      ],
      "text/plain": [
       "         age  balance    day  duration  campaign  pdays  previous\n",
       "count  45211    45211  45211     45211     45211  45211     45211\n",
       "mean      40     1362     15       258         2     40         0\n",
       "std       10     3044      8       257         3    100         2\n",
       "min       18    -8019      1         0         1     -1         0\n",
       "25%       33       72      8       103         1     -1         0\n",
       "50%       39      448     16       180         2     -1         0\n",
       "75%       48     1428     21       319         3     -1         0\n",
       "max       95   102127     31      4918        63    871       275"
      ]
     },
     "execution_count": 7,
     "metadata": {},
     "output_type": "execute_result"
    }
   ],
   "source": [
    "df.describe().astype(np.int64)"
   ]
  },
  {
   "cell_type": "code",
   "execution_count": 8,
   "metadata": {
    "execution": {
     "iopub.execute_input": "2021-03-31T19:36:00.402504Z",
     "iopub.status.busy": "2021-03-31T19:36:00.401730Z",
     "iopub.status.idle": "2021-03-31T19:36:01.830287Z",
     "shell.execute_reply": "2021-03-31T19:36:01.829709Z"
    },
    "papermill": {
     "duration": 1.474394,
     "end_time": "2021-03-31T19:36:01.830434",
     "exception": false,
     "start_time": "2021-03-31T19:36:00.356040",
     "status": "completed"
    },
    "scrolled": true,
    "tags": []
   },
   "outputs": [
    {
     "data": {
      "image/png": "[encoded data removed]",
      "text/plain": [
       "<Figure size 1440x1080 with 4 Axes>"
      ]
     },
     "metadata": {
      "needs_background": "light"
     },
     "output_type": "display_data"
    }
   ],
   "source": [
    "%matplotlib inline\n",
    "df[['age','duration','campaign','previous']].hist(bins=30, figsize=(20,15))\n",
    "plt.savefig(\"attribute_histogram_plots\")\n",
    "plt.show()"
   ]
  },
  {
   "cell_type": "code",
   "execution_count": 9,
   "metadata": {
    "execution": {
     "iopub.execute_input": "2021-03-31T19:36:01.934001Z",
     "iopub.status.busy": "2021-03-31T19:36:01.931010Z",
     "iopub.status.idle": "2021-03-31T19:36:02.590564Z",
     "shell.execute_reply": "2021-03-31T19:36:02.589895Z"
    },
    "papermill": {
     "duration": 0.721107,
     "end_time": "2021-03-31T19:36:02.590706",
     "exception": false,
     "start_time": "2021-03-31T19:36:01.869599",
     "status": "completed"
    },
    "tags": []
   },
   "outputs": [
    {
     "data": {
      "image/png": "[encoded data removed]",
      "text/plain": [
       "<Figure size 720x720 with 2 Axes>"
      ]
     },
     "metadata": {
      "needs_background": "light"
     },
     "output_type": "display_data"
    }
   ],
   "source": [
    "fig, ax = plt.subplots(figsize=(10,10))  \n",
    "sns.heatmap(df._get_numeric_data().astype(float).corr(),\n",
    "            square=True, cmap='RdBu_r', linewidths=.5,\n",
    "            annot=True, fmt='.2f').figure.tight_layout()\n",
    "plt.show()"
   ]
  },
  {
   "cell_type": "code",
   "execution_count": 10,
   "metadata": {
    "execution": {
     "iopub.execute_input": "2021-03-31T19:36:02.841722Z",
     "iopub.status.busy": "2021-03-31T19:36:02.840639Z",
     "iopub.status.idle": "2021-03-31T19:36:02.920952Z",
     "shell.execute_reply": "2021-03-31T19:36:02.921488Z"
    },
    "papermill": {
     "duration": 0.12893,
     "end_time": "2021-03-31T19:36:02.921683",
     "exception": false,
     "start_time": "2021-03-31T19:36:02.792753",
     "status": "completed"
    },
    "scrolled": true,
    "tags": []
   },
   "outputs": [
    {
     "name": "stdout",
     "output_type": "stream",
     "text": [
      "job ( 12 values):\n",
      " ['admin.' 'blue-collar' 'entrepreneur' 'housemaid' 'management' 'retired'\n",
      " 'self-employed' 'services' 'student' 'technician' 'unemployed' 'unknown']\n",
      "marital ( 3 values):\n",
      " ['divorced' 'married' 'single']\n",
      "education ( 4 values):\n",
      " ['primary' 'secondary' 'tertiary' 'unknown']\n",
      "default ( 2 values):\n",
      " ['no' 'yes']\n",
      "housing ( 2 values):\n",
      " ['no' 'yes']\n",
      "loan ( 2 values):\n",
      " ['no' 'yes']\n",
      "contact ( 3 values):\n",
      " ['cellular' 'telephone' 'unknown']\n",
      "month ( 12 values):\n",
      " ['apr' 'aug' 'dec' 'feb' 'jan' 'jul' 'jun' 'mar' 'may' 'nov' 'oct' 'sep']\n",
      "poutcome ( 4 values):\n",
      " ['failure' 'other' 'success' 'unknown']\n",
      "y ( 2 values):\n",
      " ['no' 'yes']\n"
     ]
    }
   ],
   "source": [
    "category_features = df.select_dtypes(include=['object', 'bool']).columns.values\n",
    "\n",
    "for col in category_features:\n",
    "    print(col, \"(\", len(df[col].unique()) , \"values):\\n\", np.sort(df[col].unique()))"
   ]
  },
  {
   "cell_type": "code",
   "execution_count": 11,
   "metadata": {
    "execution": {
     "iopub.execute_input": "2021-03-31T19:36:03.142687Z",
     "iopub.status.busy": "2021-03-31T19:36:03.130757Z",
     "iopub.status.idle": "2021-03-31T19:36:11.383663Z",
     "shell.execute_reply": "2021-03-31T19:36:11.384314Z"
    },
    "papermill": {
     "duration": 8.340897,
     "end_time": "2021-03-31T19:36:11.384504",
     "exception": false,
     "start_time": "2021-03-31T19:36:03.043607",
     "status": "completed"
    },
    "tags": []
   },
   "outputs": [
    {
     "name": "stdout",
     "output_type": "stream",
     "text": [
      "\u001b[1m\u001b[94mjob \n",
      "--------------------\u001b[0m\n",
      "blue-collar      9732\n",
      "management       9458\n",
      "technician       7597\n",
      "admin.           5171\n",
      "services         4154\n",
      "retired          2264\n",
      "self-employed    1579\n",
      "entrepreneur     1487\n",
      "unemployed       1303\n",
      "housemaid        1240\n",
      "student           938\n",
      "unknown           288\n",
      "Name: job, dtype: int64 \n",
      "\n",
      "\u001b[1m\u001b[94mmarital \n",
      "--------------------\u001b[0m\n",
      "married     27214\n",
      "single      12790\n",
      "divorced     5207\n",
      "Name: marital, dtype: int64 \n",
      "\n",
      "\u001b[1m\u001b[94meducation \n",
      "--------------------\u001b[0m\n",
      "secondary    23202\n",
      "tertiary     13301\n",
      "primary       6851\n",
      "unknown       1857\n",
      "Name: education, dtype: int64 \n",
      "\n",
      "\u001b[1m\u001b[94mdefault \n",
      "--------------------\u001b[0m\n",
      "no     44396\n",
      "yes      815\n",
      "Name: default, dtype: int64 \n",
      "\n",
      "\u001b[1m\u001b[94mhousing \n",
      "--------------------\u001b[0m\n",
      "yes    25130\n",
      "no     20081\n",
      "Name: housing, dtype: int64 \n",
      "\n",
      "\u001b[1m\u001b[94mloan \n",
      "--------------------\u001b[0m\n",
      "no     37967\n",
      "yes     7244\n",
      "Name: loan, dtype: int64 \n",
      "\n",
      "\u001b[1m\u001b[94mcontact \n",
      "--------------------\u001b[0m\n",
      "cellular     29285\n",
      "unknown      13020\n",
      "telephone     2906\n",
      "Name: contact, dtype: int64 \n",
      "\n",
      "\u001b[1m\u001b[94mmonth \n",
      "--------------------\u001b[0m\n",
      "may    13766\n",
      "jul     6895\n",
      "aug     6247\n",
      "jun     5341\n",
      "nov     3970\n",
      "apr     2932\n",
      "feb     2649\n",
      "jan     1403\n",
      "oct      738\n",
      "sep      579\n",
      "mar      477\n",
      "dec      214\n",
      "Name: month, dtype: int64 \n",
      "\n",
      "\u001b[1m\u001b[94mpoutcome \n",
      "--------------------\u001b[0m\n",
      "unknown    36959\n",
      "failure     4901\n",
      "other       1840\n",
      "success     1511\n",
      "Name: poutcome, dtype: int64 \n",
      "\n",
      "\u001b[1m\u001b[94my \n",
      "--------------------\u001b[0m\n",
      "no     39922\n",
      "yes     5289\n",
      "Name: y, dtype: int64 \n",
      "\n",
      "0        14\n",
      "1        14\n",
      "2        14\n",
      "3        13\n",
      "4        10\n",
      "         ..\n",
      "45206    15\n",
      "45207    15\n",
      "45208    15\n",
      "45209    14\n",
      "45210    14\n",
      "Length: 45211, dtype: int64\n"
     ]
    }
   ],
   "source": [
    "for col in category_features:\n",
    "    print(f\"\\033[1m\\033[94m{col} \\n{20 * '-'}\\033[0m\")    \n",
    "    print(df[col].value_counts(), \"\\n\")\n",
    "    \n",
    "print(df.nunique(axis=1))"
   ]
  },
  {
   "cell_type": "code",
   "execution_count": 12,
   "metadata": {
    "execution": {
     "iopub.execute_input": "2021-03-31T19:36:11.718906Z",
     "iopub.status.busy": "2021-03-31T19:36:11.717878Z",
     "iopub.status.idle": "2021-03-31T19:36:14.275020Z",
     "shell.execute_reply": "2021-03-31T19:36:14.274317Z"
    },
    "papermill": {
     "duration": 2.601651,
     "end_time": "2021-03-31T19:36:14.275184",
     "exception": false,
     "start_time": "2021-03-31T19:36:11.673533",
     "status": "completed"
    },
    "scrolled": false,
    "tags": []
   },
   "outputs": [
    {
     "data": {
      "image/png": "[encoded data removed]",
      "text/plain": [
       "<Figure size 720x360 with 1 Axes>"
      ]
     },
     "metadata": {
      "needs_background": "light"
     },
     "output_type": "display_data"
    },
    {
     "data": {
      "image/png": "[encoded data removed]",
      "text/plain": [
       "<Figure size 720x360 with 1 Axes>"
      ]
     },
     "metadata": {
      "needs_background": "light"
     },
     "output_type": "display_data"
    },
    {
     "data": {
      "image/png": "[encoded data removed]",
      "text/plain": [
       "<Figure size 720x360 with 1 Axes>"
      ]
     },
     "metadata": {
      "needs_background": "light"
     },
     "output_type": "display_data"
    },
    {
     "data": {
      "image/png": "[encoded data removed]",
      "text/plain": [
       "<Figure size 720x360 with 1 Axes>"
      ]
     },
     "metadata": {
      "needs_background": "light"
     },
     "output_type": "display_data"
    },
    {
     "data": {
      "image/png": "[encoded data removed]",
      "text/plain": [
       "<Figure size 720x360 with 1 Axes>"
      ]
     },
     "metadata": {
      "needs_background": "light"
     },
     "output_type": "display_data"
    },
    {
     "data": {
      "image/png": "[encoded data removed]",
      "text/plain": [
       "<Figure size 720x360 with 1 Axes>"
      ]
     },
     "metadata": {
      "needs_background": "light"
     },
     "output_type": "display_data"
    },
    {
     "data": {
      "image/png": "[encoded data removed]",
      "text/plain": [
       "<Figure size 720x360 with 1 Axes>"
      ]
     },
     "metadata": {
      "needs_background": "light"
     },
     "output_type": "display_data"
    },
    {
     "data": {
      "image/png": "[encoded data removed]",
      "text/plain": [
       "<Figure size 720x360 with 1 Axes>"
      ]
     },
     "metadata": {
      "needs_background": "light"
     },
     "output_type": "display_data"
    },
    {
     "data": {
      "image/png": "[encoded data removed]",
      "text/plain": [
       "<Figure size 720x360 with 1 Axes>"
      ]
     },
     "metadata": {
      "needs_background": "light"
     },
     "output_type": "display_data"
    },
    {
     "data": {
      "image/png": "[encoded data removed]",
      "text/plain": [
       "<Figure size 720x360 with 1 Axes>"
      ]
     },
     "metadata": {
      "needs_background": "light"
     },
     "output_type": "display_data"
    }
   ],
   "source": [
    "for col in category_features:\n",
    "    plt.figure(figsize=(10,5))    \n",
    "    sns.barplot(df[col].value_counts().values, df[col].value_counts().index, data=df)    \n",
    "    plt.title(col)    \n",
    "    plt.tight_layout()"
   ]
  },
  {
   "cell_type": "code",
   "execution_count": 13,
   "metadata": {
    "execution": {
     "iopub.execute_input": "2021-03-31T19:36:14.596122Z",
     "iopub.status.busy": "2021-03-31T19:36:14.587011Z",
     "iopub.status.idle": "2021-03-31T19:36:14.825510Z",
     "shell.execute_reply": "2021-03-31T19:36:14.824767Z"
    },
    "papermill": {
     "duration": 0.310264,
     "end_time": "2021-03-31T19:36:14.825655",
     "exception": false,
     "start_time": "2021-03-31T19:36:14.515391",
     "status": "completed"
    },
    "tags": []
   },
   "outputs": [
    {
     "data": {
      "image/png": "[encoded data removed]",
      "text/plain": [
       "<Figure size 432x288 with 1 Axes>"
      ]
     },
     "metadata": {
      "needs_background": "light"
     },
     "output_type": "display_data"
    }
   ],
   "source": [
    "labels = [\"Not \\nsubscribed\", \"Subscribed\"]\n",
    "explode = (0, 0.1)\n",
    "\n",
    " fig = plt.figure() \n",
    "ax = fig.add_axes([0,0,1,1]) \n",
    "\n",
    "ax.pie(df['y'].value_counts(), \n",
    "       labels = labels,\n",
    "       explode = explode,\n",
    "       autopct ='%1.2f%%',\n",
    "       frame = True,\n",
    "       textprops = dict(color =\"black\", size=12)) \n",
    "\n",
    "ax.axis('equal') \n",
    "plt.title('Subcription to the term deposit\\n% of Total Clients',\n",
    "     loc='left',\n",
    "     color = 'black', \n",
    "     fontsize = '18')\n",
    "\n",
    "plt.show()"
   ]
  },
  {
   "cell_type": "code",
   "execution_count": 14,
   "metadata": {
    "execution": {
     "iopub.execute_input": "2021-03-31T19:36:15.229338Z",
     "iopub.status.busy": "2021-03-31T19:36:15.228375Z",
     "iopub.status.idle": "2021-03-31T19:36:15.244087Z",
     "shell.execute_reply": "2021-03-31T19:36:15.244574Z"
    },
    "papermill": {
     "duration": 0.072721,
     "end_time": "2021-03-31T19:36:15.244754",
     "exception": false,
     "start_time": "2021-03-31T19:36:15.172033",
     "status": "completed"
    },
    "scrolled": false,
    "tags": []
   },
   "outputs": [
    {
     "data": {
      "text/html": [
       "<div>\n",
       "<style scoped>\n",
       "    .dataframe tbody tr th:only-of-type {\n",
       "        vertical-align: middle;\n",
       "    }\n",
       "\n",
       "    .dataframe tbody tr th {\n",
       "        vertical-align: top;\n",
       "    }\n",
       "\n",
       "    .dataframe thead th {\n",
       "        text-align: right;\n",
       "    }\n",
       "</style>\n",
       "<table border=\"1\" class=\"dataframe\">\n",
       "  <thead>\n",
       "    <tr style=\"text-align: right;\">\n",
       "      <th></th>\n",
       "      <th>campaign</th>\n",
       "      <th>y</th>\n",
       "    </tr>\n",
       "  </thead>\n",
       "  <tbody>\n",
       "    <tr>\n",
       "      <th>0</th>\n",
       "      <td>1</td>\n",
       "      <td>17544</td>\n",
       "    </tr>\n",
       "    <tr>\n",
       "      <th>1</th>\n",
       "      <td>2</td>\n",
       "      <td>12505</td>\n",
       "    </tr>\n",
       "    <tr>\n",
       "      <th>2</th>\n",
       "      <td>3</td>\n",
       "      <td>5521</td>\n",
       "    </tr>\n",
       "    <tr>\n",
       "      <th>3</th>\n",
       "      <td>4</td>\n",
       "      <td>3522</td>\n",
       "    </tr>\n",
       "    <tr>\n",
       "      <th>4</th>\n",
       "      <td>5</td>\n",
       "      <td>1764</td>\n",
       "    </tr>\n",
       "  </tbody>\n",
       "</table>\n",
       "</div>"
      ],
      "text/plain": [
       "   campaign      y\n",
       "0         1  17544\n",
       "1         2  12505\n",
       "2         3   5521\n",
       "3         4   3522\n",
       "4         5   1764"
      ]
     },
     "execution_count": 14,
     "metadata": {},
     "output_type": "execute_result"
    }
   ],
   "source": [
    "df.groupby(['campaign'])['y'].count().reset_index().sort_values(by='y', ascending=False).iloc[:5]"
   ]
  },
  {
   "cell_type": "code",
   "execution_count": 15,
   "metadata": {
    "execution": {
     "iopub.execute_input": "2021-03-31T19:36:15.450033Z",
     "iopub.status.busy": "2021-03-31T19:36:15.449031Z",
     "iopub.status.idle": "2021-03-31T19:36:15.801100Z",
     "shell.execute_reply": "2021-03-31T19:36:15.800554Z"
    },
    "papermill": {
     "duration": 0.40537,
     "end_time": "2021-03-31T19:36:15.801280",
     "exception": false,
     "start_time": "2021-03-31T19:36:15.395910",
     "status": "completed"
    },
    "tags": []
   },
   "outputs": [
    {
     "data": {
      "text/plain": [
       "Text(0, 0.5, 'Frequency of Purchase')"
      ]
     },
     "execution_count": 15,
     "metadata": {},
     "output_type": "execute_result"
    },
    {
     "data": {
      "image/png": "[encoded data removed]",
      "text/plain": [
       "<Figure size 432x288 with 1 Axes>"
      ]
     },
     "metadata": {
      "needs_background": "light"
     },
     "output_type": "display_data"
    }
   ],
   "source": [
    "table = pd.crosstab(df.job, df.y)\n",
    "table.columns = ['Not subscribed', 'Subscribed']\n",
    "table.plot(kind='bar')\n",
    "\n",
    "plt.grid(True)\n",
    "\n",
    "plt.title('Purchase Frequency for Job Title')\n",
    "plt.xlabel('Job')\n",
    "plt.ylabel('Frequency of Purchase')"
   ]
  },
  {
   "cell_type": "code",
   "execution_count": 16,
   "metadata": {
    "execution": {
     "iopub.execute_input": "2021-03-31T19:36:15.917642Z",
     "iopub.status.busy": "2021-03-31T19:36:15.915694Z",
     "iopub.status.idle": "2021-03-31T19:36:15.944801Z",
     "shell.execute_reply": "2021-03-31T19:36:15.944157Z"
    },
    "papermill": {
     "duration": 0.091731,
     "end_time": "2021-03-31T19:36:15.944946",
     "exception": false,
     "start_time": "2021-03-31T19:36:15.853215",
     "status": "completed"
    },
    "tags": []
   },
   "outputs": [
    {
     "data": {
      "text/plain": [
       "job\n",
       "student          28.68\n",
       "retired          22.79\n",
       "unemployed       15.50\n",
       "management       13.76\n",
       "admin.           12.20\n",
       "self-employed    11.84\n",
       "unknown          11.81\n",
       "technician       11.06\n",
       "services          8.88\n",
       "housemaid         8.79\n",
       "entrepreneur      8.27\n",
       "blue-collar       7.27\n",
       "Name: subcribed, dtype: float64"
      ]
     },
     "execution_count": 16,
     "metadata": {},
     "output_type": "execute_result"
    }
   ],
   "source": [
    "table = pd.crosstab(df.job, df.y)\n",
    "table = round(table.div(table.sum(axis=1), axis=0).mul(100), 2)\n",
    "table.columns=['notsubcribed', 'subcribed']\n",
    "table.sort_values(by=['subcribed'], ascending=False).loc[:, 'subcribed']"
   ]
  },
  {
   "cell_type": "code",
   "execution_count": 17,
   "metadata": {
    "execution": {
     "iopub.execute_input": "2021-03-31T19:36:16.269878Z",
     "iopub.status.busy": "2021-03-31T19:36:16.268898Z",
     "iopub.status.idle": "2021-03-31T19:36:16.477512Z",
     "shell.execute_reply": "2021-03-31T19:36:16.477977Z"
    },
    "papermill": {
     "duration": 0.272326,
     "end_time": "2021-03-31T19:36:16.478174",
     "exception": false,
     "start_time": "2021-03-31T19:36:16.205848",
     "status": "completed"
    },
    "scrolled": true,
    "tags": []
   },
   "outputs": [
    {
     "data": {
      "text/plain": [
       "Text(0, 0.5, 'Proportion of Customers')"
      ]
     },
     "execution_count": 17,
     "metadata": {},
     "output_type": "execute_result"
    },
    {
     "data": {
      "image/png": "[encoded data removed]",
      "text/plain": [
       "<Figure size 432x288 with 1 Axes>"
      ]
     },
     "metadata": {
      "needs_background": "light"
     },
     "output_type": "display_data"
    }
   ],
   "source": [
    "table = pd.crosstab(df.marital,df.y)\n",
    "table = table.div(table.sum(1).astype(float), axis=0)\n",
    "table.columns = ['Not subscribed', 'Subscribed']\n",
    "table[['Subscribed', 'Not subscribed']].plot(kind='bar', stacked=True)\n",
    "plt.title('Frequency of Marital Status vs Purchase')\n",
    "plt.xlabel('Marital Status')\n",
    "plt.ylabel('Proportion of Customers')"
   ]
  },
  {
   "cell_type": "code",
   "execution_count": 18,
   "metadata": {
    "execution": {
     "iopub.execute_input": "2021-03-31T19:36:16.913213Z",
     "iopub.status.busy": "2021-03-31T19:36:16.912114Z",
     "iopub.status.idle": "2021-03-31T19:36:16.918823Z",
     "shell.execute_reply": "2021-03-31T19:36:16.918158Z"
    },
    "papermill": {
     "duration": 0.066459,
     "end_time": "2021-03-31T19:36:16.918967",
     "exception": false,
     "start_time": "2021-03-31T19:36:16.852508",
     "status": "completed"
    },
    "tags": []
   },
   "outputs": [],
   "source": [
    "df = df.drop(['duration'], axis=1)"
   ]
  },
  {
   "cell_type": "code",
   "execution_count": 19,
   "metadata": {
    "execution": {
     "iopub.execute_input": "2021-03-31T19:36:17.471216Z",
     "iopub.status.busy": "2021-03-31T19:36:17.470016Z",
     "iopub.status.idle": "2021-03-31T19:36:17.490501Z",
     "shell.execute_reply": "2021-03-31T19:36:17.491420Z"
    },
    "papermill": {
     "duration": 0.088888,
     "end_time": "2021-03-31T19:36:17.491608",
     "exception": false,
     "start_time": "2021-03-31T19:36:17.402720",
     "status": "completed"
    },
    "tags": []
   },
   "outputs": [
    {
     "name": "stdout",
     "output_type": "stream",
     "text": [
      "Number transactions X_train dataset:  (36168, 15)\n",
      "Number transactions y_train dataset:  (36168,)\n",
      "Number transactions X_test dataset:  (9043, 15)\n",
      "Number transactions y_test dataset:  (9043,)\n"
     ]
    }
   ],
   "source": [
    "X = df.drop(columns=['y'])\n",
    "y = df['y']\n",
    "\n",
    "X_train, X_test, y_train, y_test = train_test_split(X, y, test_size = 0.2, random_state=0)\n",
    "\n",
    "print(\"Number transactions X_train dataset: \", X_train.shape)\n",
    "print(\"Number transactions y_train dataset: \", y_train.shape)\n",
    "print(\"Number transactions X_test dataset: \", X_test.shape)\n",
    "print(\"Number transactions y_test dataset: \", y_test.shape)"
   ]
  },
  {
   "cell_type": "code",
   "execution_count": 20,
   "metadata": {
    "execution": {
     "iopub.execute_input": "2021-03-31T19:36:17.930855Z",
     "iopub.status.busy": "2021-03-31T19:36:17.930252Z",
     "iopub.status.idle": "2021-03-31T19:36:17.944870Z",
     "shell.execute_reply": "2021-03-31T19:36:17.945369Z"
    },
    "papermill": {
     "duration": 0.072198,
     "end_time": "2021-03-31T19:36:17.945559",
     "exception": false,
     "start_time": "2021-03-31T19:36:17.873361",
     "status": "completed"
    },
    "tags": []
   },
   "outputs": [
    {
     "name": "stdout",
     "output_type": "stream",
     "text": [
      "['age' 'balance' 'day' 'campaign' 'pdays' 'previous']\n",
      "['job' 'marital' 'education' 'default' 'housing' 'loan' 'contact' 'month'\n",
      " 'poutcome']\n"
     ]
    }
   ],
   "source": [
    "numeric_features = X_train.select_dtypes(include=['float64', 'int64']).columns.values\n",
    "numeric_features = numeric_features[numeric_features != 'y']\n",
    "\n",
    "category_features = X_train.select_dtypes(include=['object', 'bool']).columns.values\n",
    "\n",
    "print(numeric_features)\n",
    "print(category_features)"
   ]
  },
  {
   "cell_type": "code",
   "execution_count": 21,
   "metadata": {
    "execution": {
     "iopub.execute_input": "2021-03-31T19:36:18.063216Z",
     "iopub.status.busy": "2021-03-31T19:36:18.062337Z",
     "iopub.status.idle": "2021-03-31T19:36:18.065336Z",
     "shell.execute_reply": "2021-03-31T19:36:18.064824Z"
    },
    "papermill": {
     "duration": 0.064924,
     "end_time": "2021-03-31T19:36:18.065486",
     "exception": false,
     "start_time": "2021-03-31T19:36:18.000562",
     "status": "completed"
    },
    "tags": []
   },
   "outputs": [],
   "source": [
    "def dummify(ohe, x, columns):\n",
    "    transformed_array = ohe.transform(x)\n",
    "\n",
    "    \n",
    "    enc = ohe.named_transformers_['cat'].named_steps['onehot']\n",
    "    feature_lst = enc.get_feature_names(category_features.tolist())   \n",
    "    \n",
    "    cat_colnames = np.concatenate([feature_lst]).tolist()\n",
    "    all_colnames = numeric_features.tolist() + cat_colnames \n",
    "    df = pd.DataFrame(transformed_array, index = x.index, columns = all_colnames)\n",
    "    \n",
    "    return transformed_array, df"
   ]
  },
  {
   "cell_type": "code",
   "execution_count": 22,
   "metadata": {
    "execution": {
     "iopub.execute_input": "2021-03-31T19:36:18.190007Z",
     "iopub.status.busy": "2021-03-31T19:36:18.189241Z",
     "iopub.status.idle": "2021-03-31T19:36:18.654258Z",
     "shell.execute_reply": "2021-03-31T19:36:18.653662Z"
    },
    "papermill": {
     "duration": 0.532839,
     "end_time": "2021-03-31T19:36:18.654430",
     "exception": false,
     "start_time": "2021-03-31T19:36:18.121591",
     "status": "completed"
    },
    "tags": []
   },
   "outputs": [],
   "source": [
    "numeric_transformer = Pipeline(steps=[\n",
    "    ('imputer', SimpleImputer(strategy='median')),\n",
    "    ('scaler', StandardScaler())]\n",
    "categorical_transformer = Pipeline(steps=[\n",
    "    ('imputer', SimpleImputer(strategy='constant', fill_value='missing')),\n",
    "    ('onehot', OneHotEncoder(handle_unknown='ignore'))])\n",
    "\n",
    "preprocessor = ColumnTransformer(\n",
    "    transformers=[\n",
    "        ('num', numeric_transformer, numeric_features),\n",
    "        ('cat', categorical_transformer, category_features)])\n",
    "\n",
    "ohe = preprocessor.fit(X_train)\n",
    "\n",
    "X_train_t = ohe.transform(X_train)\n",
    "X_test_t = ohe.transform(X_test)"
   ]
  },
  {
   "cell_type": "code",
   "execution_count": 23,
   "metadata": {
    "execution": {
     "iopub.execute_input": "2021-03-31T19:36:18.773882Z",
     "iopub.status.busy": "2021-03-31T19:36:18.773206Z",
     "iopub.status.idle": "2021-03-31T19:36:19.067008Z",
     "shell.execute_reply": "2021-03-31T19:36:19.066500Z"
    },
    "papermill": {
     "duration": 0.357532,
     "end_time": "2021-03-31T19:36:19.067172",
     "exception": false,
     "start_time": "2021-03-31T19:36:18.709640",
     "status": "completed"
    },
    "tags": []
   },
   "outputs": [
    {
     "data": {
      "text/html": [
       "<div>\n",
       "<style scoped>\n",
       "    .dataframe tbody tr th:only-of-type {\n",
       "        vertical-align: middle;\n",
       "    }\n",
       "\n",
       "    .dataframe tbody tr th {\n",
       "        vertical-align: top;\n",
       "    }\n",
       "\n",
       "    .dataframe thead th {\n",
       "        text-align: right;\n",
       "    }\n",
       "</style>\n",
       "<table border=\"1\" class=\"dataframe\">\n",
       "  <thead>\n",
       "    <tr style=\"text-align: right;\">\n",
       "      <th></th>\n",
       "      <th>age</th>\n",
       "      <th>balance</th>\n",
       "      <th>day</th>\n",
       "      <th>campaign</th>\n",
       "      <th>pdays</th>\n",
       "      <th>previous</th>\n",
       "      <th>job_admin.</th>\n",
       "      <th>job_blue-collar</th>\n",
       "      <th>job_entrepreneur</th>\n",
       "      <th>job_housemaid</th>\n",
       "      <th>job_management</th>\n",
       "      <th>job_retired</th>\n",
       "      <th>job_self-employed</th>\n",
       "      <th>job_services</th>\n",
       "      <th>job_student</th>\n",
       "      <th>job_technician</th>\n",
       "      <th>job_unemployed</th>\n",
       "      <th>job_unknown</th>\n",
       "      <th>marital_divorced</th>\n",
       "      <th>marital_married</th>\n",
       "      <th>marital_single</th>\n",
       "      <th>education_primary</th>\n",
       "      <th>education_secondary</th>\n",
       "      <th>education_tertiary</th>\n",
       "      <th>education_unknown</th>\n",
       "      <th>default_no</th>\n",
       "      <th>default_yes</th>\n",
       "      <th>housing_no</th>\n",
       "      <th>housing_yes</th>\n",
       "      <th>loan_no</th>\n",
       "      <th>loan_yes</th>\n",
       "      <th>contact_cellular</th>\n",
       "      <th>contact_telephone</th>\n",
       "      <th>contact_unknown</th>\n",
       "      <th>month_apr</th>\n",
       "      <th>month_aug</th>\n",
       "      <th>month_dec</th>\n",
       "      <th>month_feb</th>\n",
       "      <th>month_jan</th>\n",
       "      <th>month_jul</th>\n",
       "      <th>month_jun</th>\n",
       "      <th>month_mar</th>\n",
       "      <th>month_may</th>\n",
       "      <th>month_nov</th>\n",
       "      <th>month_oct</th>\n",
       "      <th>month_sep</th>\n",
       "      <th>poutcome_failure</th>\n",
       "      <th>poutcome_other</th>\n",
       "      <th>poutcome_success</th>\n",
       "      <th>poutcome_unknown</th>\n",
       "    </tr>\n",
       "  </thead>\n",
       "  <tbody>\n",
       "    <tr>\n",
       "      <th>13932</th>\n",
       "      <td>1.515061</td>\n",
       "      <td>-0.231637</td>\n",
       "      <td>-0.698514</td>\n",
       "      <td>-0.567836</td>\n",
       "      <td>-0.410222</td>\n",
       "      <td>-0.241405</td>\n",
       "      <td>1.0</td>\n",
       "      <td>0.0</td>\n",
       "      <td>0.0</td>\n",
       "      <td>0.0</td>\n",
       "      <td>0.0</td>\n",
       "      <td>0.0</td>\n",
       "      <td>0.0</td>\n",
       "      <td>0.0</td>\n",
       "      <td>0.0</td>\n",
       "      <td>0.0</td>\n",
       "      <td>0.0</td>\n",
       "      <td>0.0</td>\n",
       "      <td>1.0</td>\n",
       "      <td>0.0</td>\n",
       "      <td>0.0</td>\n",
       "      <td>0.0</td>\n",
       "      <td>1.0</td>\n",
       "      <td>0.0</td>\n",
       "      <td>0.0</td>\n",
       "      <td>1.0</td>\n",
       "      <td>0.0</td>\n",
       "      <td>1.0</td>\n",
       "      <td>0.0</td>\n",
       "      <td>1.0</td>\n",
       "      <td>0.0</td>\n",
       "      <td>1.0</td>\n",
       "      <td>0.0</td>\n",
       "      <td>0.0</td>\n",
       "      <td>0.0</td>\n",
       "      <td>0.0</td>\n",
       "      <td>0.0</td>\n",
       "      <td>0.0</td>\n",
       "      <td>0.0</td>\n",
       "      <td>1.0</td>\n",
       "      <td>0.0</td>\n",
       "      <td>0.0</td>\n",
       "      <td>0.0</td>\n",
       "      <td>0.0</td>\n",
       "      <td>0.0</td>\n",
       "      <td>0.0</td>\n",
       "      <td>0.0</td>\n",
       "      <td>0.0</td>\n",
       "      <td>0.0</td>\n",
       "      <td>1.0</td>\n",
       "    </tr>\n",
       "    <tr>\n",
       "      <th>9894</th>\n",
       "      <td>-0.369597</td>\n",
       "      <td>0.106038</td>\n",
       "      <td>-0.818717</td>\n",
       "      <td>-0.567836</td>\n",
       "      <td>-0.410222</td>\n",
       "      <td>-0.241405</td>\n",
       "      <td>0.0</td>\n",
       "      <td>0.0</td>\n",
       "      <td>0.0</td>\n",
       "      <td>0.0</td>\n",
       "      <td>0.0</td>\n",
       "      <td>0.0</td>\n",
       "      <td>0.0</td>\n",
       "      <td>0.0</td>\n",
       "      <td>0.0</td>\n",
       "      <td>0.0</td>\n",
       "      <td>0.0</td>\n",
       "      <td>1.0</td>\n",
       "      <td>0.0</td>\n",
       "      <td>1.0</td>\n",
       "      <td>0.0</td>\n",
       "      <td>0.0</td>\n",
       "      <td>0.0</td>\n",
       "      <td>0.0</td>\n",
       "      <td>1.0</td>\n",
       "      <td>1.0</td>\n",
       "      <td>0.0</td>\n",
       "      <td>1.0</td>\n",
       "      <td>0.0</td>\n",
       "      <td>1.0</td>\n",
       "      <td>0.0</td>\n",
       "      <td>0.0</td>\n",
       "      <td>0.0</td>\n",
       "      <td>1.0</td>\n",
       "      <td>0.0</td>\n",
       "      <td>0.0</td>\n",
       "      <td>0.0</td>\n",
       "      <td>0.0</td>\n",
       "      <td>0.0</td>\n",
       "      <td>0.0</td>\n",
       "      <td>1.0</td>\n",
       "      <td>0.0</td>\n",
       "      <td>0.0</td>\n",
       "      <td>0.0</td>\n",
       "      <td>0.0</td>\n",
       "      <td>0.0</td>\n",
       "      <td>0.0</td>\n",
       "      <td>0.0</td>\n",
       "      <td>0.0</td>\n",
       "      <td>1.0</td>\n",
       "    </tr>\n",
       "    <tr>\n",
       "      <th>39946</th>\n",
       "      <td>-0.558063</td>\n",
       "      <td>0.470635</td>\n",
       "      <td>-1.660136</td>\n",
       "      <td>0.402837</td>\n",
       "      <td>0.560728</td>\n",
       "      <td>0.585721</td>\n",
       "      <td>0.0</td>\n",
       "      <td>0.0</td>\n",
       "      <td>0.0</td>\n",
       "      <td>0.0</td>\n",
       "      <td>0.0</td>\n",
       "      <td>0.0</td>\n",
       "      <td>0.0</td>\n",
       "      <td>0.0</td>\n",
       "      <td>0.0</td>\n",
       "      <td>1.0</td>\n",
       "      <td>0.0</td>\n",
       "      <td>0.0</td>\n",
       "      <td>1.0</td>\n",
       "      <td>0.0</td>\n",
       "      <td>0.0</td>\n",
       "      <td>0.0</td>\n",
       "      <td>1.0</td>\n",
       "      <td>0.0</td>\n",
       "      <td>0.0</td>\n",
       "      <td>1.0</td>\n",
       "      <td>0.0</td>\n",
       "      <td>0.0</td>\n",
       "      <td>1.0</td>\n",
       "      <td>1.0</td>\n",
       "      <td>0.0</td>\n",
       "      <td>1.0</td>\n",
       "      <td>0.0</td>\n",
       "      <td>0.0</td>\n",
       "      <td>0.0</td>\n",
       "      <td>0.0</td>\n",
       "      <td>0.0</td>\n",
       "      <td>0.0</td>\n",
       "      <td>0.0</td>\n",
       "      <td>0.0</td>\n",
       "      <td>1.0</td>\n",
       "      <td>0.0</td>\n",
       "      <td>0.0</td>\n",
       "      <td>0.0</td>\n",
       "      <td>0.0</td>\n",
       "      <td>0.0</td>\n",
       "      <td>1.0</td>\n",
       "      <td>0.0</td>\n",
       "      <td>0.0</td>\n",
       "      <td>0.0</td>\n",
       "    </tr>\n",
       "    <tr>\n",
       "      <th>9217</th>\n",
       "      <td>-0.558063</td>\n",
       "      <td>-0.375660</td>\n",
       "      <td>-1.299528</td>\n",
       "      <td>-0.567836</td>\n",
       "      <td>-0.410222</td>\n",
       "      <td>-0.241405</td>\n",
       "      <td>1.0</td>\n",
       "      <td>0.0</td>\n",
       "      <td>0.0</td>\n",
       "      <td>0.0</td>\n",
       "      <td>0.0</td>\n",
       "      <td>0.0</td>\n",
       "      <td>0.0</td>\n",
       "      <td>0.0</td>\n",
       "      <td>0.0</td>\n",
       "      <td>0.0</td>\n",
       "      <td>0.0</td>\n",
       "      <td>0.0</td>\n",
       "      <td>0.0</td>\n",
       "      <td>1.0</td>\n",
       "      <td>0.0</td>\n",
       "      <td>0.0</td>\n",
       "      <td>1.0</td>\n",
       "      <td>0.0</td>\n",
       "      <td>0.0</td>\n",
       "      <td>1.0</td>\n",
       "      <td>0.0</td>\n",
       "      <td>0.0</td>\n",
       "      <td>1.0</td>\n",
       "      <td>0.0</td>\n",
       "      <td>1.0</td>\n",
       "      <td>0.0</td>\n",
       "      <td>0.0</td>\n",
       "      <td>1.0</td>\n",
       "      <td>0.0</td>\n",
       "      <td>0.0</td>\n",
       "      <td>0.0</td>\n",
       "      <td>0.0</td>\n",
       "      <td>0.0</td>\n",
       "      <td>0.0</td>\n",
       "      <td>1.0</td>\n",
       "      <td>0.0</td>\n",
       "      <td>0.0</td>\n",
       "      <td>0.0</td>\n",
       "      <td>0.0</td>\n",
       "      <td>0.0</td>\n",
       "      <td>0.0</td>\n",
       "      <td>0.0</td>\n",
       "      <td>0.0</td>\n",
       "      <td>1.0</td>\n",
       "    </tr>\n",
       "    <tr>\n",
       "      <th>4124</th>\n",
       "      <td>-0.275365</td>\n",
       "      <td>-0.340303</td>\n",
       "      <td>0.383311</td>\n",
       "      <td>-0.567836</td>\n",
       "      <td>-0.410222</td>\n",
       "      <td>-0.241405</td>\n",
       "      <td>0.0</td>\n",
       "      <td>0.0</td>\n",
       "      <td>0.0</td>\n",
       "      <td>0.0</td>\n",
       "      <td>0.0</td>\n",
       "      <td>0.0</td>\n",
       "      <td>0.0</td>\n",
       "      <td>1.0</td>\n",
       "      <td>0.0</td>\n",
       "      <td>0.0</td>\n",
       "      <td>0.0</td>\n",
       "      <td>0.0</td>\n",
       "      <td>0.0</td>\n",
       "      <td>0.0</td>\n",
       "      <td>1.0</td>\n",
       "      <td>0.0</td>\n",
       "      <td>0.0</td>\n",
       "      <td>1.0</td>\n",
       "      <td>0.0</td>\n",
       "      <td>1.0</td>\n",
       "      <td>0.0</td>\n",
       "      <td>0.0</td>\n",
       "      <td>1.0</td>\n",
       "      <td>1.0</td>\n",
       "      <td>0.0</td>\n",
       "      <td>0.0</td>\n",
       "      <td>0.0</td>\n",
       "      <td>1.0</td>\n",
       "      <td>0.0</td>\n",
       "      <td>0.0</td>\n",
       "      <td>0.0</td>\n",
       "      <td>0.0</td>\n",
       "      <td>0.0</td>\n",
       "      <td>0.0</td>\n",
       "      <td>0.0</td>\n",
       "      <td>0.0</td>\n",
       "      <td>1.0</td>\n",
       "      <td>0.0</td>\n",
       "      <td>0.0</td>\n",
       "      <td>0.0</td>\n",
       "      <td>0.0</td>\n",
       "      <td>0.0</td>\n",
       "      <td>0.0</td>\n",
       "      <td>1.0</td>\n",
       "    </tr>\n",
       "  </tbody>\n",
       "</table>\n",
       "</div>"
      ],
      "text/plain": [
       "            age   balance       day  campaign     pdays  previous  job_admin.  \\\n",
       "13932  1.515061 -0.231637 -0.698514 -0.567836 -0.410222 -0.241405         1.0   \n",
       "9894  -0.369597  0.106038 -0.818717 -0.567836 -0.410222 -0.241405         0.0   \n",
       "39946 -0.558063  0.470635 -1.660136  0.402837  0.560728  0.585721         0.0   \n",
       "9217  -0.558063 -0.375660 -1.299528 -0.567836 -0.410222 -0.241405         1.0   \n",
       "4124  -0.275365 -0.340303  0.383311 -0.567836 -0.410222 -0.241405         0.0   \n",
       "\n",
       "       job_blue-collar  job_entrepreneur  job_housemaid  job_management  \\\n",
       "13932              0.0               0.0            0.0             0.0   \n",
       "9894               0.0               0.0            0.0             0.0   \n",
       "39946              0.0               0.0            0.0             0.0   \n",
       "9217               0.0               0.0            0.0             0.0   \n",
       "4124               0.0               0.0            0.0             0.0   \n",
       "\n",
       "       job_retired  job_self-employed  job_services  job_student  \\\n",
       "13932          0.0                0.0           0.0          0.0   \n",
       "9894           0.0                0.0           0.0          0.0   \n",
       "39946          0.0                0.0           0.0          0.0   \n",
       "9217           0.0                0.0           0.0          0.0   \n",
       "4124           0.0                0.0           1.0          0.0   \n",
       "\n",
       "       job_technician  job_unemployed  job_unknown  marital_divorced  \\\n",
       "13932             0.0             0.0          0.0               1.0   \n",
       "9894              0.0             0.0          1.0               0.0   \n",
       "39946             1.0             0.0          0.0               1.0   \n",
       "9217              0.0             0.0          0.0               0.0   \n",
       "4124              0.0             0.0          0.0               0.0   \n",
       "\n",
       "       marital_married  marital_single  education_primary  \\\n",
       "13932              0.0             0.0                0.0   \n",
       "9894               1.0             0.0                0.0   \n",
       "39946              0.0             0.0                0.0   \n",
       "9217               1.0             0.0                0.0   \n",
       "4124               0.0             1.0                0.0   \n",
       "\n",
       "       education_secondary  education_tertiary  education_unknown  default_no  \\\n",
       "13932                  1.0                 0.0                0.0         1.0   \n",
       "9894                   0.0                 0.0                1.0         1.0   \n",
       "39946                  1.0                 0.0                0.0         1.0   \n",
       "9217                   1.0                 0.0                0.0         1.0   \n",
       "4124                   0.0                 1.0                0.0         1.0   \n",
       "\n",
       "       default_yes  housing_no  housing_yes  loan_no  loan_yes  \\\n",
       "13932          0.0         1.0          0.0      1.0       0.0   \n",
       "9894           0.0         1.0          0.0      1.0       0.0   \n",
       "39946          0.0         0.0          1.0      1.0       0.0   \n",
       "9217           0.0         0.0          1.0      0.0       1.0   \n",
       "4124           0.0         0.0          1.0      1.0       0.0   \n",
       "\n",
       "       contact_cellular  contact_telephone  contact_unknown  month_apr  \\\n",
       "13932               1.0                0.0              0.0        0.0   \n",
       "9894                0.0                0.0              1.0        0.0   \n",
       "39946               1.0                0.0              0.0        0.0   \n",
       "9217                0.0                0.0              1.0        0.0   \n",
       "4124                0.0                0.0              1.0        0.0   \n",
       "\n",
       "       month_aug  month_dec  month_feb  month_jan  month_jul  month_jun  \\\n",
       "13932        0.0        0.0        0.0        0.0        1.0        0.0   \n",
       "9894         0.0        0.0        0.0        0.0        0.0        1.0   \n",
       "39946        0.0        0.0        0.0        0.0        0.0        1.0   \n",
       "9217         0.0        0.0        0.0        0.0        0.0        1.0   \n",
       "4124         0.0        0.0        0.0        0.0        0.0        0.0   \n",
       "\n",
       "       month_mar  month_may  month_nov  month_oct  month_sep  \\\n",
       "13932        0.0        0.0        0.0        0.0        0.0   \n",
       "9894         0.0        0.0        0.0        0.0        0.0   \n",
       "39946        0.0        0.0        0.0        0.0        0.0   \n",
       "9217         0.0        0.0        0.0        0.0        0.0   \n",
       "4124         0.0        1.0        0.0        0.0        0.0   \n",
       "\n",
       "       poutcome_failure  poutcome_other  poutcome_success  poutcome_unknown  \n",
       "13932               0.0             0.0               0.0               1.0  \n",
       "9894                0.0             0.0               0.0               1.0  \n",
       "39946               1.0             0.0               0.0               0.0  \n",
       "9217                0.0             0.0               0.0               1.0  \n",
       "4124                0.0             0.0               0.0               1.0  "
      ]
     },
     "execution_count": 23,
     "metadata": {},
     "output_type": "execute_result"
    }
   ],
   "source": [
    "X_train_t_array, X_train_t = dummify(ohe, X_train, category_features)\n",
    "X_test_t_array, X_test_t = dummify(ohe, X_test, category_features)\n",
    "\n",
    "X_train_t.head()"
   ]
  },
  {
   "cell_type": "code",
   "execution_count": 24,
   "metadata": {
    "execution": {
     "iopub.execute_input": "2021-03-31T19:36:19.187281Z",
     "iopub.status.busy": "2021-03-31T19:36:19.186402Z",
     "iopub.status.idle": "2021-03-31T19:36:19.190338Z",
     "shell.execute_reply": "2021-03-31T19:36:19.189684Z"
    },
    "papermill": {
     "duration": 0.066184,
     "end_time": "2021-03-31T19:36:19.190487",
     "exception": false,
     "start_time": "2021-03-31T19:36:19.124303",
     "status": "completed"
    },
    "tags": []
   },
   "outputs": [
    {
     "name": "stdout",
     "output_type": "stream",
     "text": [
      "Index(['age', 'balance', 'day', 'campaign', 'pdays', 'previous', 'job_admin.',\n",
      "       'job_blue-collar', 'job_entrepreneur', 'job_housemaid',\n",
      "       'job_management', 'job_retired', 'job_self-employed', 'job_services',\n",
      "       'job_student', 'job_technician', 'job_unemployed', 'job_unknown',\n",
      "       'marital_divorced', 'marital_married', 'marital_single',\n",
      "       'education_primary', 'education_secondary', 'education_tertiary',\n",
      "       'education_unknown', 'default_no', 'default_yes', 'housing_no',\n",
      "       'housing_yes', 'loan_no', 'loan_yes', 'contact_cellular',\n",
      "       'contact_telephone', 'contact_unknown', 'month_apr', 'month_aug',\n",
      "       'month_dec', 'month_feb', 'month_jan', 'month_jul', 'month_jun',\n",
      "       'month_mar', 'month_may', 'month_nov', 'month_oct', 'month_sep',\n",
      "       'poutcome_failure', 'poutcome_other', 'poutcome_success',\n",
      "       'poutcome_unknown'],\n",
      "      dtype='object')\n"
     ]
    }
   ],
   "source": [
    "X_train_columns = X_train_t.columns\n",
    "print(X_train_columns)"
   ]
  },
  {
   "cell_type": "code",
   "execution_count": 25,
   "metadata": {
    "execution": {
     "iopub.execute_input": "2021-03-31T19:36:19.873674Z",
     "iopub.status.busy": "2021-03-31T19:36:19.872993Z",
     "iopub.status.idle": "2021-03-31T19:36:21.191985Z",
     "shell.execute_reply": "2021-03-31T19:36:21.190804Z"
    },
    "papermill": {
     "duration": 1.381327,
     "end_time": "2021-03-31T19:36:21.192279",
     "exception": false,
     "start_time": "2021-03-31T19:36:19.810952",
     "status": "completed"
    },
    "tags": []
   },
   "outputs": [
    {
     "name": "stdout",
     "output_type": "stream",
     "text": [
      "Counter({'no': 31942, 'yes': 4226})\n",
      "Counter({'yes': 31942, 'no': 31942})\n"
     ]
    }
   ],
   "source": [
    "from imblearn.over_sampling import SMOTE\n",
    "counter = Counter(y_train)\n",
    "print(counter)\n",
    "\n",
    "oversample = SMOTE()\n",
    "X_train_smote, y_train = oversample.fit_resample(X_train_t, y_train)\n",
    "\n",
    "counter = Counter(y_train)\n",
    "print(counter)"
   ]
  },
  {
   "cell_type": "code",
   "execution_count": 26,
   "metadata": {
    "execution": {
     "iopub.execute_input": "2021-03-31T19:36:21.549798Z",
     "iopub.status.busy": "2021-03-31T19:36:21.548649Z",
     "iopub.status.idle": "2021-03-31T19:36:47.137392Z",
     "shell.execute_reply": "2021-03-31T19:36:47.136870Z"
    },
    "papermill": {
     "duration": 25.658595,
     "end_time": "2021-03-31T19:36:47.137585",
     "exception": false,
     "start_time": "2021-03-31T19:36:21.478990",
     "status": "completed"
    },
    "tags": []
   },
   "outputs": [
    {
     "name": "stdout",
     "output_type": "stream",
     "text": [
      "[False False False False False False False False  True  True False  True\n",
      " False False  True False False  True False False  True False False False\n",
      " False  True False False  True False  True  True False  True False  True\n",
      "  True  True  True  True False  True  True  True  True  True  True  True\n",
      "  True  True]\n",
      "[19 16 26  2 20 18 14 17  1  1 25  1 22  9  1 23 11  1 24 10  1  6 15 12\n",
      "  7  1  4  5  1  3  1  1 13  1 21  1  1  1  1  1  8  1  1  1  1  1  1  1\n",
      "  1  1]\n"
     ]
    }
   ],
   "source": [
    "from sklearn.svm import SVC\n",
    "\n",
    "final_X_train = pd.DataFrame(data=X_train_smote,columns=X_train_columns )\n",
    "final_y_train = pd.DataFrame(data=y_train,columns=['y'])\n",
    "\n",
    "rfe_model = RFE(LogisticRegression(solver='lbfgs', max_iter=1000), 25)\n",
    "rfe_model = rfe_model.fit(final_X_train, final_y_train)\n",
    "print(rfe_model.support_)\n",
    "print(rfe_model.ranking_)"
   ]
  },
  {
   "cell_type": "code",
   "execution_count": 27,
   "metadata": {
    "execution": {
     "iopub.execute_input": "2021-03-31T19:36:47.257862Z",
     "iopub.status.busy": "2021-03-31T19:36:47.257225Z",
     "iopub.status.idle": "2021-03-31T19:36:47.260323Z",
     "shell.execute_reply": "2021-03-31T19:36:47.260825Z"
    },
    "papermill": {
     "duration": 0.065674,
     "end_time": "2021-03-31T19:36:47.260999",
     "exception": false,
     "start_time": "2021-03-31T19:36:47.195325",
     "status": "completed"
    },
    "tags": []
   },
   "outputs": [
    {
     "name": "stdout",
     "output_type": "stream",
     "text": [
      "['job_entrepreneur', 'job_housemaid', 'job_retired', 'job_student', 'job_unknown', 'marital_single', 'default_no', 'housing_yes', 'loan_yes', 'contact_cellular', 'contact_unknown', 'month_aug', 'month_dec', 'month_feb', 'month_jan', 'month_jul', 'month_mar', 'month_may', 'month_nov', 'month_oct', 'month_sep', 'poutcome_failure', 'poutcome_other', 'poutcome_success', 'poutcome_unknown']\n"
     ]
    }
   ],
   "source": [
    "selected_columns = X_train_columns[rfe_model.support_]\n",
    "print(selected_columns.tolist())"
   ]
  },
  {
   "cell_type": "code",
   "execution_count": 28,
   "metadata": {
    "execution": {
     "iopub.execute_input": "2021-03-31T19:36:47.382055Z",
     "iopub.status.busy": "2021-03-31T19:36:47.381046Z",
     "iopub.status.idle": "2021-03-31T19:36:47.424699Z",
     "shell.execute_reply": "2021-03-31T19:36:47.424109Z"
    },
    "papermill": {
     "duration": 0.105219,
     "end_time": "2021-03-31T19:36:47.424837",
     "exception": false,
     "start_time": "2021-03-31T19:36:47.319618",
     "status": "completed"
    },
    "tags": []
   },
   "outputs": [
    {
     "data": {
      "text/html": [
       "<div>\n",
       "<style scoped>\n",
       "    .dataframe tbody tr th:only-of-type {\n",
       "        vertical-align: middle;\n",
       "    }\n",
       "\n",
       "    .dataframe tbody tr th {\n",
       "        vertical-align: top;\n",
       "    }\n",
       "\n",
       "    .dataframe thead th {\n",
       "        text-align: right;\n",
       "    }\n",
       "</style>\n",
       "<table border=\"1\" class=\"dataframe\">\n",
       "  <thead>\n",
       "    <tr style=\"text-align: right;\">\n",
       "      <th></th>\n",
       "      <th>job_entrepreneur</th>\n",
       "      <th>job_housemaid</th>\n",
       "      <th>job_retired</th>\n",
       "      <th>job_student</th>\n",
       "      <th>job_unknown</th>\n",
       "      <th>marital_single</th>\n",
       "      <th>default_no</th>\n",
       "      <th>housing_yes</th>\n",
       "      <th>loan_yes</th>\n",
       "      <th>contact_cellular</th>\n",
       "      <th>contact_unknown</th>\n",
       "      <th>month_aug</th>\n",
       "      <th>month_dec</th>\n",
       "      <th>month_feb</th>\n",
       "      <th>month_jan</th>\n",
       "      <th>month_jul</th>\n",
       "      <th>month_mar</th>\n",
       "      <th>month_may</th>\n",
       "      <th>month_nov</th>\n",
       "      <th>month_oct</th>\n",
       "      <th>month_sep</th>\n",
       "      <th>poutcome_failure</th>\n",
       "      <th>poutcome_other</th>\n",
       "      <th>poutcome_success</th>\n",
       "      <th>poutcome_unknown</th>\n",
       "    </tr>\n",
       "  </thead>\n",
       "  <tbody>\n",
       "    <tr>\n",
       "      <th>14001</th>\n",
       "      <td>0.0</td>\n",
       "      <td>0.0</td>\n",
       "      <td>0.0</td>\n",
       "      <td>0.0</td>\n",
       "      <td>0.0</td>\n",
       "      <td>0.0</td>\n",
       "      <td>1.0</td>\n",
       "      <td>1.0</td>\n",
       "      <td>0.0</td>\n",
       "      <td>1.0</td>\n",
       "      <td>0.0</td>\n",
       "      <td>0.0</td>\n",
       "      <td>0.0</td>\n",
       "      <td>0.0</td>\n",
       "      <td>0.0</td>\n",
       "      <td>1.0</td>\n",
       "      <td>0.0</td>\n",
       "      <td>0.0</td>\n",
       "      <td>0.0</td>\n",
       "      <td>0.0</td>\n",
       "      <td>0.0</td>\n",
       "      <td>0.0</td>\n",
       "      <td>0.0</td>\n",
       "      <td>0.0</td>\n",
       "      <td>1.0</td>\n",
       "    </tr>\n",
       "    <tr>\n",
       "      <th>32046</th>\n",
       "      <td>0.0</td>\n",
       "      <td>0.0</td>\n",
       "      <td>0.0</td>\n",
       "      <td>0.0</td>\n",
       "      <td>0.0</td>\n",
       "      <td>1.0</td>\n",
       "      <td>1.0</td>\n",
       "      <td>1.0</td>\n",
       "      <td>0.0</td>\n",
       "      <td>1.0</td>\n",
       "      <td>0.0</td>\n",
       "      <td>0.0</td>\n",
       "      <td>0.0</td>\n",
       "      <td>0.0</td>\n",
       "      <td>0.0</td>\n",
       "      <td>0.0</td>\n",
       "      <td>0.0</td>\n",
       "      <td>0.0</td>\n",
       "      <td>0.0</td>\n",
       "      <td>0.0</td>\n",
       "      <td>0.0</td>\n",
       "      <td>0.0</td>\n",
       "      <td>0.0</td>\n",
       "      <td>0.0</td>\n",
       "      <td>1.0</td>\n",
       "    </tr>\n",
       "    <tr>\n",
       "      <th>13318</th>\n",
       "      <td>0.0</td>\n",
       "      <td>0.0</td>\n",
       "      <td>0.0</td>\n",
       "      <td>0.0</td>\n",
       "      <td>0.0</td>\n",
       "      <td>0.0</td>\n",
       "      <td>1.0</td>\n",
       "      <td>0.0</td>\n",
       "      <td>1.0</td>\n",
       "      <td>0.0</td>\n",
       "      <td>0.0</td>\n",
       "      <td>0.0</td>\n",
       "      <td>0.0</td>\n",
       "      <td>0.0</td>\n",
       "      <td>0.0</td>\n",
       "      <td>1.0</td>\n",
       "      <td>0.0</td>\n",
       "      <td>0.0</td>\n",
       "      <td>0.0</td>\n",
       "      <td>0.0</td>\n",
       "      <td>0.0</td>\n",
       "      <td>0.0</td>\n",
       "      <td>0.0</td>\n",
       "      <td>0.0</td>\n",
       "      <td>1.0</td>\n",
       "    </tr>\n",
       "    <tr>\n",
       "      <th>42991</th>\n",
       "      <td>0.0</td>\n",
       "      <td>1.0</td>\n",
       "      <td>0.0</td>\n",
       "      <td>0.0</td>\n",
       "      <td>0.0</td>\n",
       "      <td>0.0</td>\n",
       "      <td>1.0</td>\n",
       "      <td>1.0</td>\n",
       "      <td>1.0</td>\n",
       "      <td>1.0</td>\n",
       "      <td>0.0</td>\n",
       "      <td>0.0</td>\n",
       "      <td>0.0</td>\n",
       "      <td>1.0</td>\n",
       "      <td>0.0</td>\n",
       "      <td>0.0</td>\n",
       "      <td>0.0</td>\n",
       "      <td>0.0</td>\n",
       "      <td>0.0</td>\n",
       "      <td>0.0</td>\n",
       "      <td>0.0</td>\n",
       "      <td>1.0</td>\n",
       "      <td>0.0</td>\n",
       "      <td>0.0</td>\n",
       "      <td>0.0</td>\n",
       "    </tr>\n",
       "    <tr>\n",
       "      <th>14237</th>\n",
       "      <td>0.0</td>\n",
       "      <td>0.0</td>\n",
       "      <td>0.0</td>\n",
       "      <td>0.0</td>\n",
       "      <td>0.0</td>\n",
       "      <td>0.0</td>\n",
       "      <td>0.0</td>\n",
       "      <td>1.0</td>\n",
       "      <td>1.0</td>\n",
       "      <td>1.0</td>\n",
       "      <td>0.0</td>\n",
       "      <td>0.0</td>\n",
       "      <td>0.0</td>\n",
       "      <td>0.0</td>\n",
       "      <td>0.0</td>\n",
       "      <td>1.0</td>\n",
       "      <td>0.0</td>\n",
       "      <td>0.0</td>\n",
       "      <td>0.0</td>\n",
       "      <td>0.0</td>\n",
       "      <td>0.0</td>\n",
       "      <td>0.0</td>\n",
       "      <td>0.0</td>\n",
       "      <td>0.0</td>\n",
       "      <td>1.0</td>\n",
       "    </tr>\n",
       "  </tbody>\n",
       "</table>\n",
       "</div>"
      ],
      "text/plain": [
       "       job_entrepreneur  job_housemaid  job_retired  job_student  job_unknown  \\\n",
       "14001               0.0            0.0          0.0          0.0          0.0   \n",
       "32046               0.0            0.0          0.0          0.0          0.0   \n",
       "13318               0.0            0.0          0.0          0.0          0.0   \n",
       "42991               0.0            1.0          0.0          0.0          0.0   \n",
       "14237               0.0            0.0          0.0          0.0          0.0   \n",
       "\n",
       "       marital_single  default_no  housing_yes  loan_yes  contact_cellular  \\\n",
       "14001             0.0         1.0          1.0       0.0               1.0   \n",
       "32046             1.0         1.0          1.0       0.0               1.0   \n",
       "13318             0.0         1.0          0.0       1.0               0.0   \n",
       "42991             0.0         1.0          1.0       1.0               1.0   \n",
       "14237             0.0         0.0          1.0       1.0               1.0   \n",
       "\n",
       "       contact_unknown  month_aug  month_dec  month_feb  month_jan  month_jul  \\\n",
       "14001              0.0        0.0        0.0        0.0        0.0        1.0   \n",
       "32046              0.0        0.0        0.0        0.0        0.0        0.0   \n",
       "13318              0.0        0.0        0.0        0.0        0.0        1.0   \n",
       "42991              0.0        0.0        0.0        1.0        0.0        0.0   \n",
       "14237              0.0        0.0        0.0        0.0        0.0        1.0   \n",
       "\n",
       "       month_mar  month_may  month_nov  month_oct  month_sep  \\\n",
       "14001        0.0        0.0        0.0        0.0        0.0   \n",
       "32046        0.0        0.0        0.0        0.0        0.0   \n",
       "13318        0.0        0.0        0.0        0.0        0.0   \n",
       "42991        0.0        0.0        0.0        0.0        0.0   \n",
       "14237        0.0        0.0        0.0        0.0        0.0   \n",
       "\n",
       "       poutcome_failure  poutcome_other  poutcome_success  poutcome_unknown  \n",
       "14001               0.0             0.0               0.0               1.0  \n",
       "32046               0.0             0.0               0.0               1.0  \n",
       "13318               0.0             0.0               0.0               1.0  \n",
       "42991               1.0             0.0               0.0               0.0  \n",
       "14237               0.0             0.0               0.0               1.0  "
      ]
     },
     "execution_count": 28,
     "metadata": {},
     "output_type": "execute_result"
    }
   ],
   "source": [
    "X_train_final = final_X_train[selected_columns.tolist()]\n",
    "y_train_final = final_y_train['y']\n",
    "X_test_final = X_test_t[selected_columns.tolist()]\n",
    "y_test_final = y_test\n",
    "\n",
    "X_test_final.head()"
   ]
  },
  {
   "cell_type": "code",
   "execution_count": 30,
   "metadata": {
    "execution": {
     "iopub.execute_input": "2021-03-31T19:36:47.793107Z",
     "iopub.status.busy": "2021-03-31T19:36:47.792414Z",
     "iopub.status.idle": "2021-03-31T19:36:48.523812Z",
     "shell.execute_reply": "2021-03-31T19:36:48.523267Z"
    },
    "papermill": {
     "duration": 0.797226,
     "end_time": "2021-03-31T19:36:48.523973",
     "exception": false,
     "start_time": "2021-03-31T19:36:47.726747",
     "status": "completed"
    },
    "tags": []
   },
   "outputs": [
    {
     "data": {
      "text/plain": [
       "LogisticRegression()"
      ]
     },
     "execution_count": 30,
     "metadata": {},
     "output_type": "execute_result"
    }
   ],
   "source": [
    "from sklearn.linear_model import LogisticRegression\n",
    "from sklearn import metrics\n",
    "\n",
    "logreg = LogisticRegression()\n",
    "logreg.fit(X_train_final, y_train_final)"
   ]
  },
  {
   "cell_type": "code",
   "execution_count": 31,
   "metadata": {
    "execution": {
     "iopub.execute_input": "2021-03-31T19:36:48.651229Z",
     "iopub.status.busy": "2021-03-31T19:36:48.650525Z",
     "iopub.status.idle": "2021-03-31T19:36:48.691634Z",
     "shell.execute_reply": "2021-03-31T19:36:48.690868Z"
    },
    "papermill": {
     "duration": 0.107867,
     "end_time": "2021-03-31T19:36:48.691839",
     "exception": false,
     "start_time": "2021-03-31T19:36:48.583972",
     "status": "completed"
    },
    "tags": []
   },
   "outputs": [
    {
     "name": "stdout",
     "output_type": "stream",
     "text": [
      "Accuracy of logistic regression classifier on test set: 0.76\n"
     ]
    }
   ],
   "source": [
    "y_pred = logreg.predict(X_test_final)\n",
    "print('Accuracy of logistic regression classifier on test set: {:.2f}'.format(logreg.score(X_test_final, y_test_final)))"
   ]
  }
 ],
 "metadata": {
  "kernelspec": {
   "display_name": "Python 3 (ipykernel)",
   "language": "python",
   "name": "python3"
  },
  "language_info": {
   "codemirror_mode": {
    "name": "ipython",
    "version": 3
   },
   "file_extension": ".py",
   "mimetype": "text/x-python",
   "name": "python",
   "nbconvert_exporter": "python",
   "pygments_lexer": "ipython3",
   "version": "3.9.7"
  },
  "papermill": {
   "default_parameters": {},
   "duration": 58.289117,
   "end_time": "2021-03-31T19:36:49.582853",
   "environment_variables": {},
   "exception": null,
   "input_path": "__notebook__.ipynb",
   "output_path": "__notebook__.ipynb",
   "parameters": {},
   "start_time": "2021-03-31T19:35:51.293736",
   "version": "2.2.2"
  }
 },
 "nbformat": 4,
 "nbformat_minor": 4
}
