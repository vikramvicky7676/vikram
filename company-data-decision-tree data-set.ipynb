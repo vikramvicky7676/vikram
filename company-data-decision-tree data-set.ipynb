{
 "cells": [
  {
   "cell_type": "code",
   "execution_count": 1,
   "id": "541adc63",
   "metadata": {
    "execution": {
     "iopub.execute_input": "2023-01-15T01:19:33.536069Z",
     "iopub.status.busy": "2023-01-15T01:19:33.535614Z",
     "iopub.status.idle": "2023-01-15T01:19:34.692710Z",
     "shell.execute_reply": "2023-01-15T01:19:34.691614Z"
    },
    "id": "Br8pJV1tvMfT",
    "papermill": {
     "duration": 1.169125,
     "end_time": "2023-01-15T01:19:34.695824",
     "exception": false,
     "start_time": "2023-01-15T01:19:33.526699",
     "status": "completed"
    },
    "tags": []
   },
   "outputs": [],
   "source": [
    "import pandas as pd\n",
    "import numpy as np\n",
    "import matplotlib.pyplot as plt\n",
    "import seaborn as sns"
   ]
  },
  {
   "cell_type": "code",
   "execution_count": 2,
   "id": "de0c642b",
   "metadata": {
    "execution": {
     "iopub.execute_input": "2023-01-15T01:19:34.709056Z",
     "iopub.status.busy": "2023-01-15T01:19:34.708675Z",
     "iopub.status.idle": "2023-01-15T01:19:34.719740Z",
     "shell.execute_reply": "2023-01-15T01:19:34.718666Z"
    },
    "id": "H73HdWP9wG7n",
    "outputId": "31f12736-8601-4dfe-a0a4-bb696767ab2f",
    "papermill": {
     "duration": 0.021391,
     "end_time": "2023-01-15T01:19:34.723041",
     "exception": false,
     "start_time": "2023-01-15T01:19:34.701650",
     "status": "completed"
    },
    "tags": []
   },
   "outputs": [
    {
     "name": "stdout",
     "output_type": "stream",
     "text": [
      "/kaggle/input/company-data-decision-tree/Company_Data.csv\n"
     ]
    }
   ],
   "source": [
    "import os\n",
    "for dirname, _, filenames in os.walk('/kaggle/input'):\n",
    "    for filename in filenames:\n",
    "        print(os.path.join(dirname, filename))"
   ]
  },
  {
   "cell_type": "code",
   "execution_count": 3,
   "id": "a31323d9",
   "metadata": {
    "execution": {
     "iopub.execute_input": "2023-01-15T01:19:34.736880Z",
     "iopub.status.busy": "2023-01-15T01:19:34.735746Z",
     "iopub.status.idle": "2023-01-15T01:19:34.772979Z",
     "shell.execute_reply": "2023-01-15T01:19:34.771881Z"
    },
    "id": "Kpb0HeWYwjch",
    "outputId": "086bc5d4-e57c-4b46-b6ce-2d330108815e",
    "papermill": {
     "duration": 0.046383,
     "end_time": "2023-01-15T01:19:34.775252",
     "exception": false,
     "start_time": "2023-01-15T01:19:34.728869",
     "status": "completed"
    },
    "tags": []
   },
   "outputs": [
    {
     "data": {
      "text/html": [
       "<div>\n",
       "<style scoped>\n",
       "    .dataframe tbody tr th:only-of-type {\n",
       "        vertical-align: middle;\n",
       "    }\n",
       "\n",
       "    .dataframe tbody tr th {\n",
       "        vertical-align: top;\n",
       "    }\n",
       "\n",
       "    .dataframe thead th {\n",
       "        text-align: right;\n",
       "    }\n",
       "</style>\n",
       "<table border=\"1\" class=\"dataframe\">\n",
       "  <thead>\n",
       "    <tr style=\"text-align: right;\">\n",
       "      <th></th>\n",
       "      <th>Sales</th>\n",
       "      <th>CompPrice</th>\n",
       "      <th>Income</th>\n",
       "      <th>Advertising</th>\n",
       "      <th>Population</th>\n",
       "      <th>Price</th>\n",
       "      <th>ShelveLoc</th>\n",
       "      <th>Age</th>\n",
       "      <th>Education</th>\n",
       "      <th>Urban</th>\n",
       "      <th>US</th>\n",
       "    </tr>\n",
       "  </thead>\n",
       "  <tbody>\n",
       "    <tr>\n",
       "      <th>0</th>\n",
       "      <td>9.50</td>\n",
       "      <td>138</td>\n",
       "      <td>73</td>\n",
       "      <td>11</td>\n",
       "      <td>276</td>\n",
       "      <td>120</td>\n",
       "      <td>Bad</td>\n",
       "      <td>42</td>\n",
       "      <td>17</td>\n",
       "      <td>Yes</td>\n",
       "      <td>Yes</td>\n",
       "    </tr>\n",
       "    <tr>\n",
       "      <th>1</th>\n",
       "      <td>11.22</td>\n",
       "      <td>111</td>\n",
       "      <td>48</td>\n",
       "      <td>16</td>\n",
       "      <td>260</td>\n",
       "      <td>83</td>\n",
       "      <td>Good</td>\n",
       "      <td>65</td>\n",
       "      <td>10</td>\n",
       "      <td>Yes</td>\n",
       "      <td>Yes</td>\n",
       "    </tr>\n",
       "    <tr>\n",
       "      <th>2</th>\n",
       "      <td>10.06</td>\n",
       "      <td>113</td>\n",
       "      <td>35</td>\n",
       "      <td>10</td>\n",
       "      <td>269</td>\n",
       "      <td>80</td>\n",
       "      <td>Medium</td>\n",
       "      <td>59</td>\n",
       "      <td>12</td>\n",
       "      <td>Yes</td>\n",
       "      <td>Yes</td>\n",
       "    </tr>\n",
       "    <tr>\n",
       "      <th>3</th>\n",
       "      <td>7.40</td>\n",
       "      <td>117</td>\n",
       "      <td>100</td>\n",
       "      <td>4</td>\n",
       "      <td>466</td>\n",
       "      <td>97</td>\n",
       "      <td>Medium</td>\n",
       "      <td>55</td>\n",
       "      <td>14</td>\n",
       "      <td>Yes</td>\n",
       "      <td>Yes</td>\n",
       "    </tr>\n",
       "    <tr>\n",
       "      <th>4</th>\n",
       "      <td>4.15</td>\n",
       "      <td>141</td>\n",
       "      <td>64</td>\n",
       "      <td>3</td>\n",
       "      <td>340</td>\n",
       "      <td>128</td>\n",
       "      <td>Bad</td>\n",
       "      <td>38</td>\n",
       "      <td>13</td>\n",
       "      <td>Yes</td>\n",
       "      <td>No</td>\n",
       "    </tr>\n",
       "  </tbody>\n",
       "</table>\n",
       "</div>"
      ],
      "text/plain": [
       "   Sales  CompPrice  Income  Advertising  Population  Price ShelveLoc  Age  \\\n",
       "0   9.50        138      73           11         276    120       Bad   42   \n",
       "1  11.22        111      48           16         260     83      Good   65   \n",
       "2  10.06        113      35           10         269     80    Medium   59   \n",
       "3   7.40        117     100            4         466     97    Medium   55   \n",
       "4   4.15        141      64            3         340    128       Bad   38   \n",
       "\n",
       "   Education Urban   US  \n",
       "0         17   Yes  Yes  \n",
       "1         10   Yes  Yes  \n",
       "2         12   Yes  Yes  \n",
       "3         14   Yes  Yes  \n",
       "4         13   Yes   No  "
      ]
     },
     "execution_count": 3,
     "metadata": {},
     "output_type": "execute_result"
    }
   ],
   "source": [
    "raw_data = pd.read_csv(\"Company_Data.csv\")\n",
    "raw_data.head()"
   ]
  },
  {
   "cell_type": "code",
   "execution_count": 4,
   "id": "563bddaf",
   "metadata": {
    "execution": {
     "iopub.execute_input": "2023-01-15T01:19:34.788946Z",
     "iopub.status.busy": "2023-01-15T01:19:34.788565Z",
     "iopub.status.idle": "2023-01-15T01:19:34.824482Z",
     "shell.execute_reply": "2023-01-15T01:19:34.823124Z"
    },
    "id": "gqPHvOR6w35r",
    "outputId": "cac2289c-e832-4d28-ffe8-2a09c4e338dd",
    "papermill": {
     "duration": 0.045625,
     "end_time": "2023-01-15T01:19:34.826930",
     "exception": false,
     "start_time": "2023-01-15T01:19:34.781305",
     "status": "completed"
    },
    "tags": []
   },
   "outputs": [
    {
     "name": "stdout",
     "output_type": "stream",
     "text": [
      "<class 'pandas.core.frame.DataFrame'>\n",
      "RangeIndex: 400 entries, 0 to 399\n",
      "Data columns (total 11 columns):\n",
      " #   Column       Non-Null Count  Dtype  \n",
      "---  ------       --------------  -----  \n",
      " 0   Sales        400 non-null    float64\n",
      " 1   CompPrice    400 non-null    int64  \n",
      " 2   Income       400 non-null    int64  \n",
      " 3   Advertising  400 non-null    int64  \n",
      " 4   Population   400 non-null    int64  \n",
      " 5   Price        400 non-null    int64  \n",
      " 6   ShelveLoc    400 non-null    object \n",
      " 7   Age          400 non-null    int64  \n",
      " 8   Education    400 non-null    int64  \n",
      " 9   Urban        400 non-null    object \n",
      " 10  US           400 non-null    object \n",
      "dtypes: float64(1), int64(7), object(3)\n",
      "memory usage: 34.5+ KB\n"
     ]
    }
   ],
   "source": [
    "raw_data.info()"
   ]
  },
  {
   "cell_type": "code",
   "execution_count": 5,
   "id": "a64f6b96",
   "metadata": {
    "execution": {
     "iopub.execute_input": "2023-01-15T01:19:34.841961Z",
     "iopub.status.busy": "2023-01-15T01:19:34.840664Z",
     "iopub.status.idle": "2023-01-15T01:19:34.850153Z",
     "shell.execute_reply": "2023-01-15T01:19:34.849313Z"
    },
    "id": "Vf-raBaZxVnV",
    "outputId": "857f0210-d730-4250-c117-b21ca6d9db9c",
    "papermill": {
     "duration": 0.018919,
     "end_time": "2023-01-15T01:19:34.852127",
     "exception": false,
     "start_time": "2023-01-15T01:19:34.833208",
     "status": "completed"
    },
    "tags": []
   },
   "outputs": [
    {
     "data": {
      "text/plain": [
       "Sales          0\n",
       "CompPrice      0\n",
       "Income         0\n",
       "Advertising    0\n",
       "Population     0\n",
       "Price          0\n",
       "ShelveLoc      0\n",
       "Age            0\n",
       "Education      0\n",
       "Urban          0\n",
       "US             0\n",
       "dtype: int64"
      ]
     },
     "execution_count": 5,
     "metadata": {},
     "output_type": "execute_result"
    }
   ],
   "source": [
    "raw_data.isnull().sum()"
   ]
  },
  {
   "cell_type": "code",
   "execution_count": 6,
   "id": "57cefc41",
   "metadata": {
    "execution": {
     "iopub.execute_input": "2023-01-15T01:19:34.866638Z",
     "iopub.status.busy": "2023-01-15T01:19:34.866233Z",
     "iopub.status.idle": "2023-01-15T01:19:34.875781Z",
     "shell.execute_reply": "2023-01-15T01:19:34.874679Z"
    },
    "id": "WB7CyY0sxg5-",
    "outputId": "c8f8a71a-6175-455a-d206-93044c34a731",
    "papermill": {
     "duration": 0.019794,
     "end_time": "2023-01-15T01:19:34.878120",
     "exception": false,
     "start_time": "2023-01-15T01:19:34.858326",
     "status": "completed"
    },
    "tags": []
   },
   "outputs": [
    {
     "data": {
      "text/plain": [
       "336"
      ]
     },
     "execution_count": 6,
     "metadata": {},
     "output_type": "execute_result"
    }
   ],
   "source": [
    "raw_data['Sales'].nunique()"
   ]
  },
  {
   "cell_type": "code",
   "execution_count": 7,
   "id": "1dcc6244",
   "metadata": {
    "execution": {
     "iopub.execute_input": "2023-01-15T01:19:34.892953Z",
     "iopub.status.busy": "2023-01-15T01:19:34.892587Z",
     "iopub.status.idle": "2023-01-15T01:19:34.928284Z",
     "shell.execute_reply": "2023-01-15T01:19:34.927343Z"
    },
    "id": "DBvx4upYyMgI",
    "outputId": "c44bc845-d7a4-4775-8123-04db86b0bb5a",
    "papermill": {
     "duration": 0.045702,
     "end_time": "2023-01-15T01:19:34.930481",
     "exception": false,
     "start_time": "2023-01-15T01:19:34.884779",
     "status": "completed"
    },
    "tags": []
   },
   "outputs": [
    {
     "data": {
      "text/html": [
       "<div>\n",
       "<style scoped>\n",
       "    .dataframe tbody tr th:only-of-type {\n",
       "        vertical-align: middle;\n",
       "    }\n",
       "\n",
       "    .dataframe tbody tr th {\n",
       "        vertical-align: top;\n",
       "    }\n",
       "\n",
       "    .dataframe thead th {\n",
       "        text-align: right;\n",
       "    }\n",
       "</style>\n",
       "<table border=\"1\" class=\"dataframe\">\n",
       "  <thead>\n",
       "    <tr style=\"text-align: right;\">\n",
       "      <th></th>\n",
       "      <th>Sales</th>\n",
       "      <th>CompPrice</th>\n",
       "      <th>Income</th>\n",
       "      <th>Advertising</th>\n",
       "      <th>Population</th>\n",
       "      <th>Price</th>\n",
       "      <th>Age</th>\n",
       "      <th>Education</th>\n",
       "    </tr>\n",
       "  </thead>\n",
       "  <tbody>\n",
       "    <tr>\n",
       "      <th>count</th>\n",
       "      <td>400.000000</td>\n",
       "      <td>400.000000</td>\n",
       "      <td>400.000000</td>\n",
       "      <td>400.000000</td>\n",
       "      <td>400.000000</td>\n",
       "      <td>400.000000</td>\n",
       "      <td>400.000000</td>\n",
       "      <td>400.000000</td>\n",
       "    </tr>\n",
       "    <tr>\n",
       "      <th>mean</th>\n",
       "      <td>7.496325</td>\n",
       "      <td>124.975000</td>\n",
       "      <td>68.657500</td>\n",
       "      <td>6.635000</td>\n",
       "      <td>264.840000</td>\n",
       "      <td>115.795000</td>\n",
       "      <td>53.322500</td>\n",
       "      <td>13.900000</td>\n",
       "    </tr>\n",
       "    <tr>\n",
       "      <th>std</th>\n",
       "      <td>2.824115</td>\n",
       "      <td>15.334512</td>\n",
       "      <td>27.986037</td>\n",
       "      <td>6.650364</td>\n",
       "      <td>147.376436</td>\n",
       "      <td>23.676664</td>\n",
       "      <td>16.200297</td>\n",
       "      <td>2.620528</td>\n",
       "    </tr>\n",
       "    <tr>\n",
       "      <th>min</th>\n",
       "      <td>0.000000</td>\n",
       "      <td>77.000000</td>\n",
       "      <td>21.000000</td>\n",
       "      <td>0.000000</td>\n",
       "      <td>10.000000</td>\n",
       "      <td>24.000000</td>\n",
       "      <td>25.000000</td>\n",
       "      <td>10.000000</td>\n",
       "    </tr>\n",
       "    <tr>\n",
       "      <th>25%</th>\n",
       "      <td>5.390000</td>\n",
       "      <td>115.000000</td>\n",
       "      <td>42.750000</td>\n",
       "      <td>0.000000</td>\n",
       "      <td>139.000000</td>\n",
       "      <td>100.000000</td>\n",
       "      <td>39.750000</td>\n",
       "      <td>12.000000</td>\n",
       "    </tr>\n",
       "    <tr>\n",
       "      <th>50%</th>\n",
       "      <td>7.490000</td>\n",
       "      <td>125.000000</td>\n",
       "      <td>69.000000</td>\n",
       "      <td>5.000000</td>\n",
       "      <td>272.000000</td>\n",
       "      <td>117.000000</td>\n",
       "      <td>54.500000</td>\n",
       "      <td>14.000000</td>\n",
       "    </tr>\n",
       "    <tr>\n",
       "      <th>75%</th>\n",
       "      <td>9.320000</td>\n",
       "      <td>135.000000</td>\n",
       "      <td>91.000000</td>\n",
       "      <td>12.000000</td>\n",
       "      <td>398.500000</td>\n",
       "      <td>131.000000</td>\n",
       "      <td>66.000000</td>\n",
       "      <td>16.000000</td>\n",
       "    </tr>\n",
       "    <tr>\n",
       "      <th>max</th>\n",
       "      <td>16.270000</td>\n",
       "      <td>175.000000</td>\n",
       "      <td>120.000000</td>\n",
       "      <td>29.000000</td>\n",
       "      <td>509.000000</td>\n",
       "      <td>191.000000</td>\n",
       "      <td>80.000000</td>\n",
       "      <td>18.000000</td>\n",
       "    </tr>\n",
       "  </tbody>\n",
       "</table>\n",
       "</div>"
      ],
      "text/plain": [
       "            Sales   CompPrice      Income  Advertising  Population  \\\n",
       "count  400.000000  400.000000  400.000000   400.000000  400.000000   \n",
       "mean     7.496325  124.975000   68.657500     6.635000  264.840000   \n",
       "std      2.824115   15.334512   27.986037     6.650364  147.376436   \n",
       "min      0.000000   77.000000   21.000000     0.000000   10.000000   \n",
       "25%      5.390000  115.000000   42.750000     0.000000  139.000000   \n",
       "50%      7.490000  125.000000   69.000000     5.000000  272.000000   \n",
       "75%      9.320000  135.000000   91.000000    12.000000  398.500000   \n",
       "max     16.270000  175.000000  120.000000    29.000000  509.000000   \n",
       "\n",
       "            Price         Age   Education  \n",
       "count  400.000000  400.000000  400.000000  \n",
       "mean   115.795000   53.322500   13.900000  \n",
       "std     23.676664   16.200297    2.620528  \n",
       "min     24.000000   25.000000   10.000000  \n",
       "25%    100.000000   39.750000   12.000000  \n",
       "50%    117.000000   54.500000   14.000000  \n",
       "75%    131.000000   66.000000   16.000000  \n",
       "max    191.000000   80.000000   18.000000  "
      ]
     },
     "execution_count": 7,
     "metadata": {},
     "output_type": "execute_result"
    }
   ],
   "source": [
    "raw_data.describe()"
   ]
  },
  {
   "cell_type": "code",
   "execution_count": 8,
   "id": "efed0324",
   "metadata": {
    "execution": {
     "iopub.execute_input": "2023-01-15T01:19:34.947935Z",
     "iopub.status.busy": "2023-01-15T01:19:34.947560Z",
     "iopub.status.idle": "2023-01-15T01:19:35.034588Z",
     "shell.execute_reply": "2023-01-15T01:19:35.033501Z"
    },
    "id": "VRm_V9rkx-1C",
    "outputId": "fa7159e1-dc69-4e1e-ae1c-d53922a6f3db",
    "papermill": {
     "duration": 0.100092,
     "end_time": "2023-01-15T01:19:35.037336",
     "exception": false,
     "start_time": "2023-01-15T01:19:34.937244",
     "status": "completed"
    },
    "tags": []
   },
   "outputs": [
    {
     "data": {
      "text/html": [
       "<style type=\"text/css\">\n",
       "#T_1839d_row0_col0, #T_1839d_row1_col1, #T_1839d_row2_col2, #T_1839d_row3_col3, #T_1839d_row4_col4, #T_1839d_row5_col5, #T_1839d_row6_col6, #T_1839d_row7_col7 {\n",
       "  background-color: #b40426;\n",
       "  color: #f1f1f1;\n",
       "}\n",
       "#T_1839d_row0_col1 {\n",
       "  background-color: #6a8bef;\n",
       "  color: #f1f1f1;\n",
       "}\n",
       "#T_1839d_row0_col2 {\n",
       "  background-color: #81a4fb;\n",
       "  color: #f1f1f1;\n",
       "}\n",
       "#T_1839d_row0_col3 {\n",
       "  background-color: #9dbdff;\n",
       "  color: #000000;\n",
       "}\n",
       "#T_1839d_row0_col4 {\n",
       "  background-color: #6788ee;\n",
       "  color: #f1f1f1;\n",
       "}\n",
       "#T_1839d_row0_col5, #T_1839d_row0_col6, #T_1839d_row1_col2, #T_1839d_row4_col7, #T_1839d_row5_col0, #T_1839d_row6_col1, #T_1839d_row7_col3, #T_1839d_row7_col4 {\n",
       "  background-color: #3b4cc0;\n",
       "  color: #f1f1f1;\n",
       "}\n",
       "#T_1839d_row0_col7 {\n",
       "  background-color: #4961d2;\n",
       "  color: #f1f1f1;\n",
       "}\n",
       "#T_1839d_row1_col0 {\n",
       "  background-color: #b1cbfc;\n",
       "  color: #000000;\n",
       "}\n",
       "#T_1839d_row1_col3, #T_1839d_row1_col4 {\n",
       "  background-color: #3d50c3;\n",
       "  color: #f1f1f1;\n",
       "}\n",
       "#T_1839d_row1_col5 {\n",
       "  background-color: #f7a889;\n",
       "  color: #000000;\n",
       "}\n",
       "#T_1839d_row1_col6, #T_1839d_row5_col7 {\n",
       "  background-color: #5b7ae5;\n",
       "  color: #f1f1f1;\n",
       "}\n",
       "#T_1839d_row1_col7 {\n",
       "  background-color: #5f7fe8;\n",
       "  color: #f1f1f1;\n",
       "}\n",
       "#T_1839d_row2_col0 {\n",
       "  background-color: #c4d5f3;\n",
       "  color: #000000;\n",
       "}\n",
       "#T_1839d_row2_col1 {\n",
       "  background-color: #3f53c6;\n",
       "  color: #f1f1f1;\n",
       "}\n",
       "#T_1839d_row2_col3, #T_1839d_row2_col4 {\n",
       "  background-color: #5572df;\n",
       "  color: #f1f1f1;\n",
       "}\n",
       "#T_1839d_row2_col5 {\n",
       "  background-color: #93b5fe;\n",
       "  color: #000000;\n",
       "}\n",
       "#T_1839d_row2_col6, #T_1839d_row3_col6 {\n",
       "  background-color: #7699f6;\n",
       "  color: #f1f1f1;\n",
       "}\n",
       "#T_1839d_row2_col7 {\n",
       "  background-color: #485fd1;\n",
       "  color: #f1f1f1;\n",
       "}\n",
       "#T_1839d_row3_col0 {\n",
       "  background-color: #dbdcde;\n",
       "  color: #000000;\n",
       "}\n",
       "#T_1839d_row3_col1, #T_1839d_row4_col2, #T_1839d_row6_col2 {\n",
       "  background-color: #4f69d9;\n",
       "  color: #f1f1f1;\n",
       "}\n",
       "#T_1839d_row3_col2 {\n",
       "  background-color: #6384eb;\n",
       "  color: #f1f1f1;\n",
       "}\n",
       "#T_1839d_row3_col4, #T_1839d_row3_col5 {\n",
       "  background-color: #abc8fd;\n",
       "  color: #000000;\n",
       "}\n",
       "#T_1839d_row3_col7 {\n",
       "  background-color: #4e68d8;\n",
       "  color: #f1f1f1;\n",
       "}\n",
       "#T_1839d_row4_col0 {\n",
       "  background-color: #adc9fd;\n",
       "  color: #000000;\n",
       "}\n",
       "#T_1839d_row4_col1 {\n",
       "  background-color: #3c4ec2;\n",
       "  color: #f1f1f1;\n",
       "}\n",
       "#T_1839d_row4_col3 {\n",
       "  background-color: #9bbcff;\n",
       "  color: #000000;\n",
       "}\n",
       "#T_1839d_row4_col5 {\n",
       "  background-color: #9ebeff;\n",
       "  color: #000000;\n",
       "}\n",
       "#T_1839d_row4_col6 {\n",
       "  background-color: #6b8df0;\n",
       "  color: #f1f1f1;\n",
       "}\n",
       "#T_1839d_row5_col1 {\n",
       "  background-color: #f4c5ad;\n",
       "  color: #000000;\n",
       "}\n",
       "#T_1839d_row5_col2, #T_1839d_row7_col2 {\n",
       "  background-color: #4055c8;\n",
       "  color: #f1f1f1;\n",
       "}\n",
       "#T_1839d_row5_col3 {\n",
       "  background-color: #516ddb;\n",
       "  color: #f1f1f1;\n",
       "}\n",
       "#T_1839d_row5_col4 {\n",
       "  background-color: #5470de;\n",
       "  color: #f1f1f1;\n",
       "}\n",
       "#T_1839d_row5_col6, #T_1839d_row6_col7 {\n",
       "  background-color: #5a78e4;\n",
       "  color: #f1f1f1;\n",
       "}\n",
       "#T_1839d_row6_col0 {\n",
       "  background-color: #688aef;\n",
       "  color: #f1f1f1;\n",
       "}\n",
       "#T_1839d_row6_col3 {\n",
       "  background-color: #4358cb;\n",
       "  color: #f1f1f1;\n",
       "}\n",
       "#T_1839d_row6_col4 {\n",
       "  background-color: #4b64d5;\n",
       "  color: #f1f1f1;\n",
       "}\n",
       "#T_1839d_row6_col5 {\n",
       "  background-color: #88abfd;\n",
       "  color: #000000;\n",
       "}\n",
       "#T_1839d_row7_col0 {\n",
       "  background-color: #94b6ff;\n",
       "  color: #000000;\n",
       "}\n",
       "#T_1839d_row7_col1 {\n",
       "  background-color: #5e7de7;\n",
       "  color: #f1f1f1;\n",
       "}\n",
       "#T_1839d_row7_col5 {\n",
       "  background-color: #a3c2fe;\n",
       "  color: #000000;\n",
       "}\n",
       "#T_1839d_row7_col6 {\n",
       "  background-color: #799cf8;\n",
       "  color: #f1f1f1;\n",
       "}\n",
       "</style>\n",
       "<table id=\"T_1839d_\">\n",
       "  <thead>\n",
       "    <tr>\n",
       "      <th class=\"blank level0\" >&nbsp;</th>\n",
       "      <th class=\"col_heading level0 col0\" >Sales</th>\n",
       "      <th class=\"col_heading level0 col1\" >CompPrice</th>\n",
       "      <th class=\"col_heading level0 col2\" >Income</th>\n",
       "      <th class=\"col_heading level0 col3\" >Advertising</th>\n",
       "      <th class=\"col_heading level0 col4\" >Population</th>\n",
       "      <th class=\"col_heading level0 col5\" >Price</th>\n",
       "      <th class=\"col_heading level0 col6\" >Age</th>\n",
       "      <th class=\"col_heading level0 col7\" >Education</th>\n",
       "    </tr>\n",
       "  </thead>\n",
       "  <tbody>\n",
       "    <tr>\n",
       "      <th id=\"T_1839d_level0_row0\" class=\"row_heading level0 row0\" >Sales</th>\n",
       "      <td id=\"T_1839d_row0_col0\" class=\"data row0 col0\" >1.000000</td>\n",
       "      <td id=\"T_1839d_row0_col1\" class=\"data row0 col1\" >0.064079</td>\n",
       "      <td id=\"T_1839d_row0_col2\" class=\"data row0 col2\" >0.151951</td>\n",
       "      <td id=\"T_1839d_row0_col3\" class=\"data row0 col3\" >0.269507</td>\n",
       "      <td id=\"T_1839d_row0_col4\" class=\"data row0 col4\" >0.050471</td>\n",
       "      <td id=\"T_1839d_row0_col5\" class=\"data row0 col5\" >-0.444951</td>\n",
       "      <td id=\"T_1839d_row0_col6\" class=\"data row0 col6\" >-0.231815</td>\n",
       "      <td id=\"T_1839d_row0_col7\" class=\"data row0 col7\" >-0.051955</td>\n",
       "    </tr>\n",
       "    <tr>\n",
       "      <th id=\"T_1839d_level0_row1\" class=\"row_heading level0 row1\" >CompPrice</th>\n",
       "      <td id=\"T_1839d_row1_col0\" class=\"data row1 col0\" >0.064079</td>\n",
       "      <td id=\"T_1839d_row1_col1\" class=\"data row1 col1\" >1.000000</td>\n",
       "      <td id=\"T_1839d_row1_col2\" class=\"data row1 col2\" >-0.080653</td>\n",
       "      <td id=\"T_1839d_row1_col3\" class=\"data row1 col3\" >-0.024199</td>\n",
       "      <td id=\"T_1839d_row1_col4\" class=\"data row1 col4\" >-0.094707</td>\n",
       "      <td id=\"T_1839d_row1_col5\" class=\"data row1 col5\" >0.584848</td>\n",
       "      <td id=\"T_1839d_row1_col6\" class=\"data row1 col6\" >-0.100239</td>\n",
       "      <td id=\"T_1839d_row1_col7\" class=\"data row1 col7\" >0.025197</td>\n",
       "    </tr>\n",
       "    <tr>\n",
       "      <th id=\"T_1839d_level0_row2\" class=\"row_heading level0 row2\" >Income</th>\n",
       "      <td id=\"T_1839d_row2_col0\" class=\"data row2 col0\" >0.151951</td>\n",
       "      <td id=\"T_1839d_row2_col1\" class=\"data row2 col1\" >-0.080653</td>\n",
       "      <td id=\"T_1839d_row2_col2\" class=\"data row2 col2\" >1.000000</td>\n",
       "      <td id=\"T_1839d_row2_col3\" class=\"data row2 col3\" >0.058995</td>\n",
       "      <td id=\"T_1839d_row2_col4\" class=\"data row2 col4\" >-0.007877</td>\n",
       "      <td id=\"T_1839d_row2_col5\" class=\"data row2 col5\" >-0.056698</td>\n",
       "      <td id=\"T_1839d_row2_col6\" class=\"data row2 col6\" >-0.004670</td>\n",
       "      <td id=\"T_1839d_row2_col7\" class=\"data row2 col7\" >-0.056855</td>\n",
       "    </tr>\n",
       "    <tr>\n",
       "      <th id=\"T_1839d_level0_row3\" class=\"row_heading level0 row3\" >Advertising</th>\n",
       "      <td id=\"T_1839d_row3_col0\" class=\"data row3 col0\" >0.269507</td>\n",
       "      <td id=\"T_1839d_row3_col1\" class=\"data row3 col1\" >-0.024199</td>\n",
       "      <td id=\"T_1839d_row3_col2\" class=\"data row3 col2\" >0.058995</td>\n",
       "      <td id=\"T_1839d_row3_col3\" class=\"data row3 col3\" >1.000000</td>\n",
       "      <td id=\"T_1839d_row3_col4\" class=\"data row3 col4\" >0.265652</td>\n",
       "      <td id=\"T_1839d_row3_col5\" class=\"data row3 col5\" >0.044537</td>\n",
       "      <td id=\"T_1839d_row3_col6\" class=\"data row3 col6\" >-0.004557</td>\n",
       "      <td id=\"T_1839d_row3_col7\" class=\"data row3 col7\" >-0.033594</td>\n",
       "    </tr>\n",
       "    <tr>\n",
       "      <th id=\"T_1839d_level0_row4\" class=\"row_heading level0 row4\" >Population</th>\n",
       "      <td id=\"T_1839d_row4_col0\" class=\"data row4 col0\" >0.050471</td>\n",
       "      <td id=\"T_1839d_row4_col1\" class=\"data row4 col1\" >-0.094707</td>\n",
       "      <td id=\"T_1839d_row4_col2\" class=\"data row4 col2\" >-0.007877</td>\n",
       "      <td id=\"T_1839d_row4_col3\" class=\"data row4 col3\" >0.265652</td>\n",
       "      <td id=\"T_1839d_row4_col4\" class=\"data row4 col4\" >1.000000</td>\n",
       "      <td id=\"T_1839d_row4_col5\" class=\"data row4 col5\" >-0.012144</td>\n",
       "      <td id=\"T_1839d_row4_col6\" class=\"data row4 col6\" >-0.042663</td>\n",
       "      <td id=\"T_1839d_row4_col7\" class=\"data row4 col7\" >-0.106378</td>\n",
       "    </tr>\n",
       "    <tr>\n",
       "      <th id=\"T_1839d_level0_row5\" class=\"row_heading level0 row5\" >Price</th>\n",
       "      <td id=\"T_1839d_row5_col0\" class=\"data row5 col0\" >-0.444951</td>\n",
       "      <td id=\"T_1839d_row5_col1\" class=\"data row5 col1\" >0.584848</td>\n",
       "      <td id=\"T_1839d_row5_col2\" class=\"data row5 col2\" >-0.056698</td>\n",
       "      <td id=\"T_1839d_row5_col3\" class=\"data row5 col3\" >0.044537</td>\n",
       "      <td id=\"T_1839d_row5_col4\" class=\"data row5 col4\" >-0.012144</td>\n",
       "      <td id=\"T_1839d_row5_col5\" class=\"data row5 col5\" >1.000000</td>\n",
       "      <td id=\"T_1839d_row5_col6\" class=\"data row5 col6\" >-0.102177</td>\n",
       "      <td id=\"T_1839d_row5_col7\" class=\"data row5 col7\" >0.011747</td>\n",
       "    </tr>\n",
       "    <tr>\n",
       "      <th id=\"T_1839d_level0_row6\" class=\"row_heading level0 row6\" >Age</th>\n",
       "      <td id=\"T_1839d_row6_col0\" class=\"data row6 col0\" >-0.231815</td>\n",
       "      <td id=\"T_1839d_row6_col1\" class=\"data row6 col1\" >-0.100239</td>\n",
       "      <td id=\"T_1839d_row6_col2\" class=\"data row6 col2\" >-0.004670</td>\n",
       "      <td id=\"T_1839d_row6_col3\" class=\"data row6 col3\" >-0.004557</td>\n",
       "      <td id=\"T_1839d_row6_col4\" class=\"data row6 col4\" >-0.042663</td>\n",
       "      <td id=\"T_1839d_row6_col5\" class=\"data row6 col5\" >-0.102177</td>\n",
       "      <td id=\"T_1839d_row6_col6\" class=\"data row6 col6\" >1.000000</td>\n",
       "      <td id=\"T_1839d_row6_col7\" class=\"data row6 col7\" >0.006488</td>\n",
       "    </tr>\n",
       "    <tr>\n",
       "      <th id=\"T_1839d_level0_row7\" class=\"row_heading level0 row7\" >Education</th>\n",
       "      <td id=\"T_1839d_row7_col0\" class=\"data row7 col0\" >-0.051955</td>\n",
       "      <td id=\"T_1839d_row7_col1\" class=\"data row7 col1\" >0.025197</td>\n",
       "      <td id=\"T_1839d_row7_col2\" class=\"data row7 col2\" >-0.056855</td>\n",
       "      <td id=\"T_1839d_row7_col3\" class=\"data row7 col3\" >-0.033594</td>\n",
       "      <td id=\"T_1839d_row7_col4\" class=\"data row7 col4\" >-0.106378</td>\n",
       "      <td id=\"T_1839d_row7_col5\" class=\"data row7 col5\" >0.011747</td>\n",
       "      <td id=\"T_1839d_row7_col6\" class=\"data row7 col6\" >0.006488</td>\n",
       "      <td id=\"T_1839d_row7_col7\" class=\"data row7 col7\" >1.000000</td>\n",
       "    </tr>\n",
       "  </tbody>\n",
       "</table>\n"
      ],
      "text/plain": [
       "<pandas.io.formats.style.Styler at 0x7f3260745d50>"
      ]
     },
     "execution_count": 8,
     "metadata": {},
     "output_type": "execute_result"
    }
   ],
   "source": [
    "raw_data.corr().style.background_gradient(cmap='coolwarm')"
   ]
  },
  {
   "cell_type": "code",
   "execution_count": 9,
   "id": "443c166b",
   "metadata": {
    "execution": {
     "iopub.execute_input": "2023-01-15T01:19:35.054057Z",
     "iopub.status.busy": "2023-01-15T01:19:35.053647Z",
     "iopub.status.idle": "2023-01-15T01:19:35.434017Z",
     "shell.execute_reply": "2023-01-15T01:19:35.432866Z"
    },
    "id": "hTuQNuPCrNZx",
    "outputId": "2b230719-2007-4994-e226-19b6d4d7c8b4",
    "papermill": {
     "duration": 0.391389,
     "end_time": "2023-01-15T01:19:35.436334",
     "exception": false,
     "start_time": "2023-01-15T01:19:35.044945",
     "status": "completed"
    },
    "tags": []
   },
   "outputs": [
    {
     "data": {
      "text/plain": [
       "<AxesSubplot:>"
      ]
     },
     "execution_count": 9,
     "metadata": {},
     "output_type": "execute_result"
    },
    {
     "data": {
      "image/png": "[encoded data removed]",
      "text/plain": [
       "<Figure size 1440x720 with 1 Axes>"
      ]
     },
     "metadata": {
      "needs_background": "light"
     },
     "output_type": "display_data"
    }
   ],
   "source": [
    "plt.figure(figsize=(20,10))\n",
    "sns.boxplot(data=raw_data, orient=\"h\")"
   ]
  },
  {
   "cell_type": "code",
   "execution_count": 10,
   "id": "82540504",
   "metadata": {
    "execution": {
     "iopub.execute_input": "2023-01-15T01:19:35.454004Z",
     "iopub.status.busy": "2023-01-15T01:19:35.452913Z",
     "iopub.status.idle": "2023-01-15T01:19:35.875456Z",
     "shell.execute_reply": "2023-01-15T01:19:35.874125Z"
    },
    "id": "HDWiMUh2yKvo",
    "outputId": "e4fc2a3e-14f3-4099-bf01-1e94304b1253",
    "papermill": {
     "duration": 0.433761,
     "end_time": "2023-01-15T01:19:35.877800",
     "exception": false,
     "start_time": "2023-01-15T01:19:35.444039",
     "status": "completed"
    },
    "tags": []
   },
   "outputs": [
    {
     "data": {
      "text/plain": [
       "<AxesSubplot:xlabel='Sales', ylabel='Count'>"
      ]
     },
     "execution_count": 10,
     "metadata": {},
     "output_type": "execute_result"
    },
    {
     "data": {
      "image/png": "[encoded data removed]",
      "text/plain": [
       "<Figure size 1800x360 with 1 Axes>"
      ]
     },
     "metadata": {
      "needs_background": "light"
     },
     "output_type": "display_data"
    }
   ],
   "source": [
    "plt.figure(figsize=(25,5))\n",
    "sns.histplot(data=raw_data, x='Sales', bins=80)"
   ]
  },
  {
   "cell_type": "code",
   "execution_count": 11,
   "id": "68ffe659",
   "metadata": {
    "execution": {
     "iopub.execute_input": "2023-01-15T01:19:35.896418Z",
     "iopub.status.busy": "2023-01-15T01:19:35.895406Z",
     "iopub.status.idle": "2023-01-15T01:19:35.901281Z",
     "shell.execute_reply": "2023-01-15T01:19:35.900043Z"
    },
    "id": "7mV3Rlw10kpK",
    "papermill": {
     "duration": 0.017798,
     "end_time": "2023-01-15T01:19:35.903689",
     "exception": false,
     "start_time": "2023-01-15T01:19:35.885891",
     "status": "completed"
    },
    "tags": []
   },
   "outputs": [],
   "source": [
    "x = raw_data['Sales'].max()"
   ]
  },
  {
   "cell_type": "code",
   "execution_count": 12,
   "id": "b090969a",
   "metadata": {
    "execution": {
     "iopub.execute_input": "2023-01-15T01:19:35.921565Z",
     "iopub.status.busy": "2023-01-15T01:19:35.921131Z",
     "iopub.status.idle": "2023-01-15T01:19:35.927139Z",
     "shell.execute_reply": "2023-01-15T01:19:35.926001Z"
    },
    "id": "zO6R3qNP74Wc",
    "outputId": "e0639d52-0439-45df-8a70-1505b3fa3899",
    "papermill": {
     "duration": 0.017846,
     "end_time": "2023-01-15T01:19:35.929650",
     "exception": false,
     "start_time": "2023-01-15T01:19:35.911804",
     "status": "completed"
    },
    "tags": []
   },
   "outputs": [
    {
     "name": "stdout",
     "output_type": "stream",
     "text": [
      "16.27 8.135 5.423333333333333\n"
     ]
    }
   ],
   "source": [
    "print(x, x/2, x/3)"
   ]
  },
  {
   "cell_type": "code",
   "execution_count": 13,
   "id": "b2e2204d",
   "metadata": {
    "execution": {
     "iopub.execute_input": "2023-01-15T01:19:35.949354Z",
     "iopub.status.busy": "2023-01-15T01:19:35.947757Z",
     "iopub.status.idle": "2023-01-15T01:19:35.973732Z",
     "shell.execute_reply": "2023-01-15T01:19:35.972304Z"
    },
    "id": "In-F4n_98QYS",
    "outputId": "21f597da-2bcd-4e2e-dca7-40f11fad278d",
    "papermill": {
     "duration": 0.038914,
     "end_time": "2023-01-15T01:19:35.976755",
     "exception": false,
     "start_time": "2023-01-15T01:19:35.937841",
     "status": "completed"
    },
    "tags": []
   },
   "outputs": [
    {
     "data": {
      "text/html": [
       "<div>\n",
       "<style scoped>\n",
       "    .dataframe tbody tr th:only-of-type {\n",
       "        vertical-align: middle;\n",
       "    }\n",
       "\n",
       "    .dataframe tbody tr th {\n",
       "        vertical-align: top;\n",
       "    }\n",
       "\n",
       "    .dataframe thead th {\n",
       "        text-align: right;\n",
       "    }\n",
       "</style>\n",
       "<table border=\"1\" class=\"dataframe\">\n",
       "  <thead>\n",
       "    <tr style=\"text-align: right;\">\n",
       "      <th></th>\n",
       "      <th>Sales</th>\n",
       "      <th>CompPrice</th>\n",
       "      <th>Income</th>\n",
       "      <th>Advertising</th>\n",
       "      <th>Population</th>\n",
       "      <th>Price</th>\n",
       "      <th>ShelveLoc</th>\n",
       "      <th>Age</th>\n",
       "      <th>Education</th>\n",
       "      <th>Urban</th>\n",
       "      <th>US</th>\n",
       "      <th>Sales_cat</th>\n",
       "    </tr>\n",
       "  </thead>\n",
       "  <tbody>\n",
       "    <tr>\n",
       "      <th>0</th>\n",
       "      <td>9.50</td>\n",
       "      <td>138</td>\n",
       "      <td>73</td>\n",
       "      <td>11</td>\n",
       "      <td>276</td>\n",
       "      <td>120</td>\n",
       "      <td>Bad</td>\n",
       "      <td>42</td>\n",
       "      <td>17</td>\n",
       "      <td>Yes</td>\n",
       "      <td>Yes</td>\n",
       "      <td>High</td>\n",
       "    </tr>\n",
       "    <tr>\n",
       "      <th>1</th>\n",
       "      <td>11.22</td>\n",
       "      <td>111</td>\n",
       "      <td>48</td>\n",
       "      <td>16</td>\n",
       "      <td>260</td>\n",
       "      <td>83</td>\n",
       "      <td>Good</td>\n",
       "      <td>65</td>\n",
       "      <td>10</td>\n",
       "      <td>Yes</td>\n",
       "      <td>Yes</td>\n",
       "      <td>High</td>\n",
       "    </tr>\n",
       "    <tr>\n",
       "      <th>2</th>\n",
       "      <td>10.06</td>\n",
       "      <td>113</td>\n",
       "      <td>35</td>\n",
       "      <td>10</td>\n",
       "      <td>269</td>\n",
       "      <td>80</td>\n",
       "      <td>Medium</td>\n",
       "      <td>59</td>\n",
       "      <td>12</td>\n",
       "      <td>Yes</td>\n",
       "      <td>Yes</td>\n",
       "      <td>High</td>\n",
       "    </tr>\n",
       "    <tr>\n",
       "      <th>3</th>\n",
       "      <td>7.40</td>\n",
       "      <td>117</td>\n",
       "      <td>100</td>\n",
       "      <td>4</td>\n",
       "      <td>466</td>\n",
       "      <td>97</td>\n",
       "      <td>Medium</td>\n",
       "      <td>55</td>\n",
       "      <td>14</td>\n",
       "      <td>Yes</td>\n",
       "      <td>Yes</td>\n",
       "      <td>Medium</td>\n",
       "    </tr>\n",
       "    <tr>\n",
       "      <th>4</th>\n",
       "      <td>4.15</td>\n",
       "      <td>141</td>\n",
       "      <td>64</td>\n",
       "      <td>3</td>\n",
       "      <td>340</td>\n",
       "      <td>128</td>\n",
       "      <td>Bad</td>\n",
       "      <td>38</td>\n",
       "      <td>13</td>\n",
       "      <td>Yes</td>\n",
       "      <td>No</td>\n",
       "      <td>Low</td>\n",
       "    </tr>\n",
       "  </tbody>\n",
       "</table>\n",
       "</div>"
      ],
      "text/plain": [
       "   Sales  CompPrice  Income  Advertising  Population  Price ShelveLoc  Age  \\\n",
       "0   9.50        138      73           11         276    120       Bad   42   \n",
       "1  11.22        111      48           16         260     83      Good   65   \n",
       "2  10.06        113      35           10         269     80    Medium   59   \n",
       "3   7.40        117     100            4         466     97    Medium   55   \n",
       "4   4.15        141      64            3         340    128       Bad   38   \n",
       "\n",
       "   Education Urban   US Sales_cat  \n",
       "0         17   Yes  Yes      High  \n",
       "1         10   Yes  Yes      High  \n",
       "2         12   Yes  Yes      High  \n",
       "3         14   Yes  Yes    Medium  \n",
       "4         13   Yes   No       Low  "
      ]
     },
     "execution_count": 13,
     "metadata": {},
     "output_type": "execute_result"
    }
   ],
   "source": [
    "data=raw_data.copy()\n",
    "data['Sales_cat'] = pd.cut(x = data['Sales'], bins = [0,5.424,8.2,16.3], labels=['Low','Medium','High'], right = False)\n",
    "data.head()"
   ]
  },
  {
   "cell_type": "code",
   "execution_count": 14,
   "id": "f28016c6",
   "metadata": {
    "execution": {
     "iopub.execute_input": "2023-01-15T01:19:36.003794Z",
     "iopub.status.busy": "2023-01-15T01:19:36.001902Z",
     "iopub.status.idle": "2023-01-15T01:19:36.018309Z",
     "shell.execute_reply": "2023-01-15T01:19:36.017295Z"
    },
    "id": "fYoNqnWz9hb4",
    "outputId": "0b783990-c3b5-457a-9a68-4777ad72b9a7",
    "papermill": {
     "duration": 0.036836,
     "end_time": "2023-01-15T01:19:36.022278",
     "exception": false,
     "start_time": "2023-01-15T01:19:35.985442",
     "status": "completed"
    },
    "tags": []
   },
   "outputs": [
    {
     "name": "stdout",
     "output_type": "stream",
     "text": [
      "High      156\n",
      "Medium    142\n",
      "Low       102\n",
      "Name: Sales_cat, dtype: int64\n",
      "Yes    282\n",
      "No     118\n",
      "Name: Urban, dtype: int64\n",
      "Yes    258\n",
      "No     142\n",
      "Name: US, dtype: int64\n",
      "Medium    219\n",
      "Bad        96\n",
      "Good       85\n",
      "Name: ShelveLoc, dtype: int64\n"
     ]
    }
   ],
   "source": [
    "print(data['Sales_cat'].value_counts())\n",
    "print(data['Urban'].value_counts())\n",
    "print(data['US'].value_counts())\n",
    "print(data['ShelveLoc'].value_counts())"
   ]
  },
  {
   "cell_type": "code",
   "execution_count": 16,
   "id": "56f9e82a",
   "metadata": {
    "execution": {
     "iopub.execute_input": "2023-01-15T01:19:36.072256Z",
     "iopub.status.busy": "2023-01-15T01:19:36.071587Z",
     "iopub.status.idle": "2023-01-15T01:19:36.093829Z",
     "shell.execute_reply": "2023-01-15T01:19:36.092616Z"
    },
    "id": "OCoX-wCtuLfA",
    "outputId": "f7964e06-447d-4fb5-ad1e-e08241301151",
    "papermill": {
     "duration": 0.034783,
     "end_time": "2023-01-15T01:19:36.096361",
     "exception": false,
     "start_time": "2023-01-15T01:19:36.061578",
     "status": "completed"
    },
    "tags": []
   },
   "outputs": [
    {
     "data": {
      "text/html": [
       "<div>\n",
       "<style scoped>\n",
       "    .dataframe tbody tr th:only-of-type {\n",
       "        vertical-align: middle;\n",
       "    }\n",
       "\n",
       "    .dataframe tbody tr th {\n",
       "        vertical-align: top;\n",
       "    }\n",
       "\n",
       "    .dataframe thead th {\n",
       "        text-align: right;\n",
       "    }\n",
       "</style>\n",
       "<table border=\"1\" class=\"dataframe\">\n",
       "  <thead>\n",
       "    <tr style=\"text-align: right;\">\n",
       "      <th></th>\n",
       "      <th>CompPrice</th>\n",
       "      <th>Income</th>\n",
       "      <th>Advertising</th>\n",
       "      <th>Population</th>\n",
       "      <th>Price</th>\n",
       "      <th>Age</th>\n",
       "      <th>Education</th>\n",
       "      <th>ShelveLoc_Bad</th>\n",
       "      <th>ShelveLoc_Good</th>\n",
       "      <th>ShelveLoc_Medium</th>\n",
       "      <th>Urban_No</th>\n",
       "      <th>Urban_Yes</th>\n",
       "      <th>US_No</th>\n",
       "      <th>US_Yes</th>\n",
       "    </tr>\n",
       "  </thead>\n",
       "  <tbody>\n",
       "    <tr>\n",
       "      <th>0</th>\n",
       "      <td>138</td>\n",
       "      <td>73</td>\n",
       "      <td>11</td>\n",
       "      <td>276</td>\n",
       "      <td>120</td>\n",
       "      <td>42</td>\n",
       "      <td>17</td>\n",
       "      <td>1</td>\n",
       "      <td>0</td>\n",
       "      <td>0</td>\n",
       "      <td>0</td>\n",
       "      <td>1</td>\n",
       "      <td>0</td>\n",
       "      <td>1</td>\n",
       "    </tr>\n",
       "    <tr>\n",
       "      <th>1</th>\n",
       "      <td>111</td>\n",
       "      <td>48</td>\n",
       "      <td>16</td>\n",
       "      <td>260</td>\n",
       "      <td>83</td>\n",
       "      <td>65</td>\n",
       "      <td>10</td>\n",
       "      <td>0</td>\n",
       "      <td>1</td>\n",
       "      <td>0</td>\n",
       "      <td>0</td>\n",
       "      <td>1</td>\n",
       "      <td>0</td>\n",
       "      <td>1</td>\n",
       "    </tr>\n",
       "    <tr>\n",
       "      <th>2</th>\n",
       "      <td>113</td>\n",
       "      <td>35</td>\n",
       "      <td>10</td>\n",
       "      <td>269</td>\n",
       "      <td>80</td>\n",
       "      <td>59</td>\n",
       "      <td>12</td>\n",
       "      <td>0</td>\n",
       "      <td>0</td>\n",
       "      <td>1</td>\n",
       "      <td>0</td>\n",
       "      <td>1</td>\n",
       "      <td>0</td>\n",
       "      <td>1</td>\n",
       "    </tr>\n",
       "    <tr>\n",
       "      <th>3</th>\n",
       "      <td>117</td>\n",
       "      <td>100</td>\n",
       "      <td>4</td>\n",
       "      <td>466</td>\n",
       "      <td>97</td>\n",
       "      <td>55</td>\n",
       "      <td>14</td>\n",
       "      <td>0</td>\n",
       "      <td>0</td>\n",
       "      <td>1</td>\n",
       "      <td>0</td>\n",
       "      <td>1</td>\n",
       "      <td>0</td>\n",
       "      <td>1</td>\n",
       "    </tr>\n",
       "    <tr>\n",
       "      <th>4</th>\n",
       "      <td>141</td>\n",
       "      <td>64</td>\n",
       "      <td>3</td>\n",
       "      <td>340</td>\n",
       "      <td>128</td>\n",
       "      <td>38</td>\n",
       "      <td>13</td>\n",
       "      <td>1</td>\n",
       "      <td>0</td>\n",
       "      <td>0</td>\n",
       "      <td>0</td>\n",
       "      <td>1</td>\n",
       "      <td>1</td>\n",
       "      <td>0</td>\n",
       "    </tr>\n",
       "  </tbody>\n",
       "</table>\n",
       "</div>"
      ],
      "text/plain": [
       "   CompPrice  Income  Advertising  Population  Price  Age  Education  \\\n",
       "0        138      73           11         276    120   42         17   \n",
       "1        111      48           16         260     83   65         10   \n",
       "2        113      35           10         269     80   59         12   \n",
       "3        117     100            4         466     97   55         14   \n",
       "4        141      64            3         340    128   38         13   \n",
       "\n",
       "   ShelveLoc_Bad  ShelveLoc_Good  ShelveLoc_Medium  Urban_No  Urban_Yes  \\\n",
       "0              1               0                 0         0          1   \n",
       "1              0               1                 0         0          1   \n",
       "2              0               0                 1         0          1   \n",
       "3              0               0                 1         0          1   \n",
       "4              1               0                 0         0          1   \n",
       "\n",
       "   US_No  US_Yes  \n",
       "0      0       1  \n",
       "1      0       1  \n",
       "2      0       1  \n",
       "3      0       1  \n",
       "4      1       0  "
      ]
     },
     "execution_count": 16,
     "metadata": {},
     "output_type": "execute_result"
    }
   ],
   "source": [
    "df = data.drop('Sales',axis=1)\n",
    "df = pd.get_dummies(df.iloc[:,:-1])\n",
    "df.head()"
   ]
  },
  {
   "cell_type": "code",
   "execution_count": 17,
   "id": "4269c84a",
   "metadata": {
    "execution": {
     "iopub.execute_input": "2023-01-15T01:19:36.117461Z",
     "iopub.status.busy": "2023-01-15T01:19:36.116546Z",
     "iopub.status.idle": "2023-01-15T01:19:36.122975Z",
     "shell.execute_reply": "2023-01-15T01:19:36.121811Z"
    },
    "id": "eOH6UVnZLtSn",
    "papermill": {
     "duration": 0.019644,
     "end_time": "2023-01-15T01:19:36.125497",
     "exception": false,
     "start_time": "2023-01-15T01:19:36.105853",
     "status": "completed"
    },
    "tags": []
   },
   "outputs": [],
   "source": [
    "df['Sales_cat'] = data['Sales_cat']"
   ]
  },
  {
   "cell_type": "code",
   "execution_count": 18,
   "id": "978983b4",
   "metadata": {
    "execution": {
     "iopub.execute_input": "2023-01-15T01:19:36.145880Z",
     "iopub.status.busy": "2023-01-15T01:19:36.145462Z",
     "iopub.status.idle": "2023-01-15T01:19:36.312942Z",
     "shell.execute_reply": "2023-01-15T01:19:36.311657Z"
    },
    "id": "Y3lOmGW592Bf",
    "outputId": "2c3d5d0a-3e6b-496e-ef99-4c50d03ee8a9",
    "papermill": {
     "duration": 0.180463,
     "end_time": "2023-01-15T01:19:36.315358",
     "exception": false,
     "start_time": "2023-01-15T01:19:36.134895",
     "status": "completed"
    },
    "tags": []
   },
   "outputs": [
    {
     "data": {
      "text/html": [
       "<div>\n",
       "<style scoped>\n",
       "    .dataframe tbody tr th:only-of-type {\n",
       "        vertical-align: middle;\n",
       "    }\n",
       "\n",
       "    .dataframe tbody tr th {\n",
       "        vertical-align: top;\n",
       "    }\n",
       "\n",
       "    .dataframe thead th {\n",
       "        text-align: right;\n",
       "    }\n",
       "</style>\n",
       "<table border=\"1\" class=\"dataframe\">\n",
       "  <thead>\n",
       "    <tr style=\"text-align: right;\">\n",
       "      <th></th>\n",
       "      <th>CompPrice</th>\n",
       "      <th>Income</th>\n",
       "      <th>Advertising</th>\n",
       "      <th>Population</th>\n",
       "      <th>Price</th>\n",
       "      <th>Age</th>\n",
       "      <th>Education</th>\n",
       "      <th>ShelveLoc_Bad</th>\n",
       "      <th>ShelveLoc_Good</th>\n",
       "      <th>ShelveLoc_Medium</th>\n",
       "      <th>Urban_No</th>\n",
       "      <th>Urban_Yes</th>\n",
       "      <th>US_No</th>\n",
       "      <th>US_Yes</th>\n",
       "      <th>Sales_cat</th>\n",
       "    </tr>\n",
       "  </thead>\n",
       "  <tbody>\n",
       "    <tr>\n",
       "      <th>0</th>\n",
       "      <td>138</td>\n",
       "      <td>73</td>\n",
       "      <td>11</td>\n",
       "      <td>276</td>\n",
       "      <td>120</td>\n",
       "      <td>42</td>\n",
       "      <td>17</td>\n",
       "      <td>1</td>\n",
       "      <td>0</td>\n",
       "      <td>0</td>\n",
       "      <td>0</td>\n",
       "      <td>1</td>\n",
       "      <td>0</td>\n",
       "      <td>1</td>\n",
       "      <td>0</td>\n",
       "    </tr>\n",
       "    <tr>\n",
       "      <th>1</th>\n",
       "      <td>111</td>\n",
       "      <td>48</td>\n",
       "      <td>16</td>\n",
       "      <td>260</td>\n",
       "      <td>83</td>\n",
       "      <td>65</td>\n",
       "      <td>10</td>\n",
       "      <td>0</td>\n",
       "      <td>1</td>\n",
       "      <td>0</td>\n",
       "      <td>0</td>\n",
       "      <td>1</td>\n",
       "      <td>0</td>\n",
       "      <td>1</td>\n",
       "      <td>0</td>\n",
       "    </tr>\n",
       "    <tr>\n",
       "      <th>2</th>\n",
       "      <td>113</td>\n",
       "      <td>35</td>\n",
       "      <td>10</td>\n",
       "      <td>269</td>\n",
       "      <td>80</td>\n",
       "      <td>59</td>\n",
       "      <td>12</td>\n",
       "      <td>0</td>\n",
       "      <td>0</td>\n",
       "      <td>1</td>\n",
       "      <td>0</td>\n",
       "      <td>1</td>\n",
       "      <td>0</td>\n",
       "      <td>1</td>\n",
       "      <td>0</td>\n",
       "    </tr>\n",
       "    <tr>\n",
       "      <th>3</th>\n",
       "      <td>117</td>\n",
       "      <td>100</td>\n",
       "      <td>4</td>\n",
       "      <td>466</td>\n",
       "      <td>97</td>\n",
       "      <td>55</td>\n",
       "      <td>14</td>\n",
       "      <td>0</td>\n",
       "      <td>0</td>\n",
       "      <td>1</td>\n",
       "      <td>0</td>\n",
       "      <td>1</td>\n",
       "      <td>0</td>\n",
       "      <td>1</td>\n",
       "      <td>2</td>\n",
       "    </tr>\n",
       "    <tr>\n",
       "      <th>4</th>\n",
       "      <td>141</td>\n",
       "      <td>64</td>\n",
       "      <td>3</td>\n",
       "      <td>340</td>\n",
       "      <td>128</td>\n",
       "      <td>38</td>\n",
       "      <td>13</td>\n",
       "      <td>1</td>\n",
       "      <td>0</td>\n",
       "      <td>0</td>\n",
       "      <td>0</td>\n",
       "      <td>1</td>\n",
       "      <td>1</td>\n",
       "      <td>0</td>\n",
       "      <td>1</td>\n",
       "    </tr>\n",
       "  </tbody>\n",
       "</table>\n",
       "</div>"
      ],
      "text/plain": [
       "   CompPrice  Income  Advertising  Population  Price  Age  Education  \\\n",
       "0        138      73           11         276    120   42         17   \n",
       "1        111      48           16         260     83   65         10   \n",
       "2        113      35           10         269     80   59         12   \n",
       "3        117     100            4         466     97   55         14   \n",
       "4        141      64            3         340    128   38         13   \n",
       "\n",
       "   ShelveLoc_Bad  ShelveLoc_Good  ShelveLoc_Medium  Urban_No  Urban_Yes  \\\n",
       "0              1               0                 0         0          1   \n",
       "1              0               1                 0         0          1   \n",
       "2              0               0                 1         0          1   \n",
       "3              0               0                 1         0          1   \n",
       "4              1               0                 0         0          1   \n",
       "\n",
       "   US_No  US_Yes  Sales_cat  \n",
       "0      0       1          0  \n",
       "1      0       1          0  \n",
       "2      0       1          0  \n",
       "3      0       1          2  \n",
       "4      1       0          1  "
      ]
     },
     "execution_count": 18,
     "metadata": {},
     "output_type": "execute_result"
    }
   ],
   "source": [
    "from sklearn import preprocessing\n",
    "from sklearn.preprocessing import LabelEncoder\n",
    "le = preprocessing.LabelEncoder()\n",
    "le.fit(df[\"Sales_cat\"])\n",
    "df['Sales_cat'] = le.transform(df[\"Sales_cat\"]\n",
    "df.head()"
   ]
  },
  {
   "cell_type": "code",
   "execution_count": 19,
   "id": "da5ba405",
   "metadata": {
    "execution": {
     "iopub.execute_input": "2023-01-15T01:19:36.336100Z",
     "iopub.status.busy": "2023-01-15T01:19:36.335696Z",
     "iopub.status.idle": "2023-01-15T01:19:36.557833Z",
     "shell.execute_reply": "2023-01-15T01:19:36.556630Z"
    },
    "id": "xFz9PjhmO0ao",
    "papermill": {
     "duration": 0.235693,
     "end_time": "2023-01-15T01:19:36.560531",
     "exception": false,
     "start_time": "2023-01-15T01:19:36.324838",
     "status": "completed"
    },
    "tags": []
   },
   "outputs": [],
   "source": [
    "from sklearn.tree import DecisionTreeClassifier\n",
    "from sklearn.model_selection import train_test_split\n",
    "from sklearn import metrics\n",
    "from sklearn.metrics import confusion_matrix\n",
    "from sklearn.metrics import classification_report"
   ]
  },
  {
   "cell_type": "code",
   "execution_count": 20,
   "id": "3e5597fb",
   "metadata": {
    "execution": {
     "iopub.execute_input": "2023-01-15T01:19:36.581207Z",
     "iopub.status.busy": "2023-01-15T01:19:36.580742Z",
     "iopub.status.idle": "2023-01-15T01:19:36.587297Z",
     "shell.execute_reply": "2023-01-15T01:19:36.586127Z"
    },
    "id": "pWTNgwf-vyfi",
    "papermill": {
     "duration": 0.019801,
     "end_time": "2023-01-15T01:19:36.589890",
     "exception": false,
     "start_time": "2023-01-15T01:19:36.570089",
     "status": "completed"
    },
    "tags": []
   },
   "outputs": [],
   "source": [
    "X = df.iloc[:,:-1]\n",
    "Y = df.iloc[:,-1:]"
   ]
  },
  {
   "cell_type": "code",
   "execution_count": 21,
   "id": "18d3c48b",
   "metadata": {
    "execution": {
     "iopub.execute_input": "2023-01-15T01:19:36.610526Z",
     "iopub.status.busy": "2023-01-15T01:19:36.610121Z",
     "iopub.status.idle": "2023-01-15T01:19:36.616917Z",
     "shell.execute_reply": "2023-01-15T01:19:36.615750Z"
    },
    "id": "EChshKeCwwKG",
    "outputId": "da0f31ac-da80-4b13-fa8d-ca0af5f8758c",
    "papermill": {
     "duration": 0.019953,
     "end_time": "2023-01-15T01:19:36.619275",
     "exception": false,
     "start_time": "2023-01-15T01:19:36.599322",
     "status": "completed"
    },
    "tags": []
   },
   "outputs": [
    {
     "data": {
      "text/plain": [
       "((400, 15), (400, 14), (400, 1))"
      ]
     },
     "execution_count": 21,
     "metadata": {},
     "output_type": "execute_result"
    }
   ],
   "source": [
    "df.shape, X.shape, Y.shape"
   ]
  },
  {
   "cell_type": "code",
   "execution_count": 22,
   "id": "33d82737",
   "metadata": {
    "execution": {
     "iopub.execute_input": "2023-01-15T01:19:36.640599Z",
     "iopub.status.busy": "2023-01-15T01:19:36.639725Z",
     "iopub.status.idle": "2023-01-15T01:19:36.651306Z",
     "shell.execute_reply": "2023-01-15T01:19:36.650222Z"
    },
    "id": "ON62I1Kqww8P",
    "papermill": {
     "duration": 0.024363,
     "end_time": "2023-01-15T01:19:36.653408",
     "exception": false,
     "start_time": "2023-01-15T01:19:36.629045",
     "status": "completed"
    },
    "tags": []
   },
   "outputs": [],
   "source": [
    "X_train, X_test, Y_train, Y_test = train_test_split(X, Y, test_size=0.3, random_state=7, stratify=Y)"
   ]
  },
  {
   "cell_type": "code",
   "execution_count": 23,
   "id": "2075fb55",
   "metadata": {
    "execution": {
     "iopub.execute_input": "2023-01-15T01:19:36.674761Z",
     "iopub.status.busy": "2023-01-15T01:19:36.673997Z",
     "iopub.status.idle": "2023-01-15T01:19:36.685698Z",
     "shell.execute_reply": "2023-01-15T01:19:36.684926Z"
    },
    "id": "z56-I9TWxgCg",
    "papermill": {
     "duration": 0.024777,
     "end_time": "2023-01-15T01:19:36.687817",
     "exception": false,
     "start_time": "2023-01-15T01:19:36.663040",
     "status": "completed"
    },
    "tags": []
   },
   "outputs": [],
   "source": [
    "dt_clf_1 = DecisionTreeClassifier(criterion='gini', max_depth=7, min_samples_leaf=2, min_samples_split=2, splitter='random')\n",
    "dt_clf_1 = dt_clf_1.fit(X_train,Y_train)\n",
    "Y_pred = dt_clf_1.predict(X_test)"
   ]
  },
  {
   "cell_type": "code",
   "execution_count": 24,
   "id": "cec8f51b",
   "metadata": {
    "execution": {
     "iopub.execute_input": "2023-01-15T01:19:36.709386Z",
     "iopub.status.busy": "2023-01-15T01:19:36.708751Z",
     "iopub.status.idle": "2023-01-15T01:19:36.721772Z",
     "shell.execute_reply": "2023-01-15T01:19:36.720404Z"
    },
    "id": "Bm2Yhm8Ex61B",
    "outputId": "dbc911bf-85e7-4700-924a-5e6242f505dd",
    "papermill": {
     "duration": 0.02674,
     "end_time": "2023-01-15T01:19:36.724283",
     "exception": false,
     "start_time": "2023-01-15T01:19:36.697543",
     "status": "completed"
    },
    "tags": []
   },
   "outputs": [
    {
     "name": "stdout",
     "output_type": "stream",
     "text": [
      "Accuracy: 0.5083333333333333\n",
      "[[31  3 13]\n",
      " [ 5 10 15]\n",
      " [14  9 20]]\n",
      "              precision    recall  f1-score   support\n",
      "\n",
      "           0       0.62      0.66      0.64        47\n",
      "           1       0.45      0.33      0.38        30\n",
      "           2       0.42      0.47      0.44        43\n",
      "\n",
      "    accuracy                           0.51       120\n",
      "   macro avg       0.50      0.49      0.49       120\n",
      "weighted avg       0.51      0.51      0.50       120\n",
      "\n"
     ]
    }
   ],
   "source": [
    "print(\"Accuracy:\",metrics.accuracy_score(Y_test, Y_pred))\n",
    "print(confusion_matrix(Y_test, Y_pred))\n",
    "print(classification_report(Y_test, Y_pred))"
   ]
  },
  {
   "cell_type": "code",
   "execution_count": 25,
   "id": "87f5ec15",
   "metadata": {
    "execution": {
     "iopub.execute_input": "2023-01-15T01:19:36.745920Z",
     "iopub.status.busy": "2023-01-15T01:19:36.745534Z",
     "iopub.status.idle": "2023-01-15T01:19:36.764152Z",
     "shell.execute_reply": "2023-01-15T01:19:36.762221Z"
    },
    "id": "p1y9Ss0kyAju",
    "outputId": "734c8dca-ff28-4c6f-c468-19fb03138cbd",
    "papermill": {
     "duration": 0.033144,
     "end_time": "2023-01-15T01:19:36.767680",
     "exception": false,
     "start_time": "2023-01-15T01:19:36.734536",
     "status": "completed"
    },
    "tags": []
   },
   "outputs": [
    {
     "name": "stdout",
     "output_type": "stream",
     "text": [
      "Accuracy: 0.5916666666666667\n",
      "[[33  6  8]\n",
      " [ 3 21  6]\n",
      " [11 15 17]]\n",
      "              precision    recall  f1-score   support\n",
      "\n",
      "           0       0.70      0.70      0.70        47\n",
      "           1       0.50      0.70      0.58        30\n",
      "           2       0.55      0.40      0.46        43\n",
      "\n",
      "    accuracy                           0.59       120\n",
      "   macro avg       0.58      0.60      0.58       120\n",
      "weighted avg       0.60      0.59      0.59       120\n",
      "\n"
     ]
    }
   ],
   "source": [
    "dt_clf_2 = DecisionTreeClassifier(criterion='entropy', max_depth=7, min_samples_leaf=2, min_samples_split=2, splitter='random')\n",
    "dt_clf_2 = dt_clf_2.fit(X_train,Y_train)\n",
    "Y_pred = dt_clf_2.predict(X_test)\n",
    "print(\"Accuracy:\",metrics.accuracy_score(Y_test, Y_pred))\n",
    "print(confusion_matrix(Y_test, Y_pred))\n",
    "print(classification_report(Y_test, Y_pred))"
   ]
  },
  {
   "cell_type": "code",
   "execution_count": 26,
   "id": "fe69828f",
   "metadata": {
    "execution": {
     "iopub.execute_input": "2023-01-15T01:19:36.790630Z",
     "iopub.status.busy": "2023-01-15T01:19:36.789842Z",
     "iopub.status.idle": "2023-01-15T01:19:42.287432Z",
     "shell.execute_reply": "2023-01-15T01:19:42.286142Z"
    },
    "id": "ywVQ6qYa3AVj",
    "outputId": "f55d8a10-cbc7-45e5-eb15-2c02525c62a0",
    "papermill": {
     "duration": 5.512888,
     "end_time": "2023-01-15T01:19:42.290948",
     "exception": false,
     "start_time": "2023-01-15T01:19:36.778060",
     "status": "completed"
    },
    "tags": []
   },
   "outputs": [
    {
     "data": {
      "text/plain": [
       "[Text(0.5932692307692308, 0.9375, 'X[8] <= 0.054\\nentropy = 1.564\\nsamples = 280\\nvalue = [109, 72, 99]'),\n",
       " Text(0.29423076923076924, 0.8125, 'X[4] <= 97.207\\nentropy = 1.574\\nsamples = 222\\nvalue = [65, 70, 87]'),\n",
       " Text(0.1346153846153846, 0.6875, 'X[5] <= 75.665\\nentropy = 1.313\\nsamples = 52\\nvalue = [25, 4, 23]'),\n",
       " Text(0.08461538461538462, 0.5625, 'X[0] <= 91.369\\nentropy = 1.325\\nsamples = 45\\nvalue = [24, 4, 17]'),\n",
       " Text(0.03076923076923077, 0.4375, 'X[10] <= 0.064\\nentropy = 0.811\\nsamples = 4\\nvalue = [3, 1, 0]'),\n",
       " Text(0.015384615384615385, 0.3125, 'entropy = 1.0\\nsamples = 2\\nvalue = [1, 1, 0]'),\n",
       " Text(0.046153846153846156, 0.3125, 'entropy = 0.0\\nsamples = 2\\nvalue = [2, 0, 0]'),\n",
       " Text(0.13846153846153847, 0.4375, 'X[7] <= 0.841\\nentropy = 1.297\\nsamples = 41\\nvalue = [21, 3, 17]'),\n",
       " Text(0.07692307692307693, 0.3125, 'X[2] <= 1.322\\nentropy = 1.124\\nsamples = 25\\nvalue = [16, 1, 8]'),\n",
       " Text(0.046153846153846156, 0.1875, 'X[1] <= 29.098\\nentropy = 1.361\\nsamples = 10\\nvalue = [4, 1, 5]'),\n",
       " Text(0.03076923076923077, 0.0625, 'entropy = 1.0\\nsamples = 2\\nvalue = [0, 1, 1]'),\n",
       " Text(0.06153846153846154, 0.0625, 'entropy = 1.0\\nsamples = 8\\nvalue = [4, 0, 4]'),\n",
       " Text(0.1076923076923077, 0.1875, 'X[4] <= 88.831\\nentropy = 0.722\\nsamples = 15\\nvalue = [12, 0, 3]'),\n",
       " Text(0.09230769230769231, 0.0625, 'entropy = 0.0\\nsamples = 6\\nvalue = [6, 0, 0]'),\n",
       " Text(0.12307692307692308, 0.0625, 'entropy = 0.918\\nsamples = 9\\nvalue = [6, 0, 3]'),\n",
       " Text(0.2, 0.3125, 'X[5] <= 50.847\\nentropy = 1.366\\nsamples = 16\\nvalue = [5, 2, 9]'),\n",
       " Text(0.16923076923076924, 0.1875, 'X[5] <= 42.134\\nentropy = 0.918\\nsamples = 9\\nvalue = [3, 0, 6]'),\n",
       " Text(0.15384615384615385, 0.0625, 'entropy = 1.0\\nsamples = 6\\nvalue = [3, 0, 3]'),\n",
       " Text(0.18461538461538463, 0.0625, 'entropy = 0.0\\nsamples = 3\\nvalue = [0, 0, 3]'),\n",
       " Text(0.23076923076923078, 0.1875, 'X[0] <= 113.828\\nentropy = 1.557\\nsamples = 7\\nvalue = [2, 2, 3]'),\n",
       " Text(0.2153846153846154, 0.0625, 'entropy = 0.918\\nsamples = 3\\nvalue = [0, 2, 1]'),\n",
       " Text(0.24615384615384617, 0.0625, 'entropy = 1.0\\nsamples = 4\\nvalue = [2, 0, 2]'),\n",
       " Text(0.18461538461538463, 0.5625, 'X[4] <= 87.929\\nentropy = 0.592\\nsamples = 7\\nvalue = [1, 0, 6]'),\n",
       " Text(0.16923076923076924, 0.4375, 'entropy = 1.0\\nsamples = 2\\nvalue = [1, 0, 1]'),\n",
       " Text(0.2, 0.4375, 'entropy = 0.0\\nsamples = 5\\nvalue = [0, 0, 5]'),\n",
       " Text(0.45384615384615384, 0.6875, 'X[9] <= 0.714\\nentropy = 1.552\\nsamples = 170\\nvalue = [40, 66, 64]'),\n",
       " Text(0.35384615384615387, 0.5625, 'X[4] <= 150.99\\nentropy = 1.122\\nsamples = 48\\nvalue = [3, 33, 12]'),\n",
       " Text(0.3384615384615385, 0.4375, 'X[2] <= 15.018\\nentropy = 1.185\\nsamples = 43\\nvalue = [3, 28, 12]'),\n",
       " Text(0.3230769230769231, 0.3125, 'X[4] <= 102.379\\nentropy = 1.025\\nsamples = 41\\nvalue = [1, 28, 12]'),\n",
       " Text(0.2923076923076923, 0.1875, 'X[11] <= 0.527\\nentropy = 1.5\\nsamples = 4\\nvalue = [1, 1, 2]'),\n",
       " Text(0.27692307692307694, 0.0625, 'entropy = 1.0\\nsamples = 2\\nvalue = [1, 1, 0]'),\n",
       " Text(0.3076923076923077, 0.0625, 'entropy = 0.0\\nsamples = 2\\nvalue = [0, 0, 2]'),\n",
       " Text(0.35384615384615387, 0.1875, 'X[0] <= 115.558\\nentropy = 0.842\\nsamples = 37\\nvalue = [0, 27, 10]'),\n",
       " Text(0.3384615384615385, 0.0625, 'entropy = 0.0\\nsamples = 4\\nvalue = [0, 4, 0]'),\n",
       " Text(0.36923076923076925, 0.0625, 'entropy = 0.885\\nsamples = 33\\nvalue = [0, 23, 10]'),\n",
       " Text(0.35384615384615387, 0.3125, 'entropy = 0.0\\nsamples = 2\\nvalue = [2, 0, 0]'),\n",
       " Text(0.36923076923076925, 0.4375, 'entropy = 0.0\\nsamples = 5\\nvalue = [0, 5, 0]'),\n",
       " Text(0.5538461538461539, 0.5625, 'X[2] <= 13.854\\nentropy = 1.557\\nsamples = 122\\nvalue = [37, 33, 52]'),\n",
       " Text(0.46923076923076923, 0.4375, 'X[5] <= 40.677\\nentropy = 1.512\\nsamples = 97\\nvalue = [20, 32, 45]'),\n",
       " Text(0.4307692307692308, 0.3125, 'X[4] <= 149.842\\nentropy = 1.167\\nsamples = 19\\nvalue = [6, 1, 12]'),\n",
       " Text(0.4153846153846154, 0.1875, 'X[0] <= 105.386\\nentropy = 0.937\\nsamples = 17\\nvalue = [6, 0, 11]'),\n",
       " Text(0.4, 0.0625, 'entropy = 0.0\\nsamples = 2\\nvalue = [0, 0, 2]'),\n",
       " Text(0.4307692307692308, 0.0625, 'entropy = 0.971\\nsamples = 15\\nvalue = [6, 0, 9]'),\n",
       " Text(0.4461538461538462, 0.1875, 'entropy = 1.0\\nsamples = 2\\nvalue = [0, 1, 1]'),\n",
       " Text(0.5076923076923077, 0.3125, 'X[2] <= 9.4\\nentropy = 1.499\\nsamples = 78\\nvalue = [14, 31, 33]'),\n",
       " Text(0.47692307692307695, 0.1875, 'X[6] <= 11.813\\nentropy = 1.442\\nsamples = 57\\nvalue = [8, 26, 23]'),\n",
       " Text(0.46153846153846156, 0.0625, 'entropy = 1.198\\nsamples = 16\\nvalue = [1, 5, 10]'),\n",
       " Text(0.49230769230769234, 0.0625, 'entropy = 1.455\\nsamples = 41\\nvalue = [7, 21, 13]'),\n",
       " Text(0.5384615384615384, 0.1875, 'X[4] <= 106.0\\nentropy = 1.519\\nsamples = 21\\nvalue = [6, 5, 10]'),\n",
       " Text(0.5230769230769231, 0.0625, 'entropy = 0.722\\nsamples = 5\\nvalue = [4, 1, 0]'),\n",
       " Text(0.5538461538461539, 0.0625, 'entropy = 1.299\\nsamples = 16\\nvalue = [2, 4, 10]'),\n",
       " Text(0.6384615384615384, 0.4375, 'X[5] <= 62.565\\nentropy = 1.078\\nsamples = 25\\nvalue = [17, 1, 7]'),\n",
       " Text(0.5846153846153846, 0.3125, 'X[2] <= 14.528\\nentropy = 0.787\\nsamples = 17\\nvalue = [13, 0, 4]'),\n",
       " Text(0.5692307692307692, 0.1875, 'entropy = 0.0\\nsamples = 3\\nvalue = [3, 0, 0]'),\n",
       " Text(0.6, 0.1875, 'X[5] <= 39.186\\nentropy = 0.863\\nsamples = 14\\nvalue = [10, 0, 4]'),\n",
       " Text(0.5846153846153846, 0.0625, 'entropy = 0.0\\nsamples = 4\\nvalue = [4, 0, 0]'),\n",
       " Text(0.6153846153846154, 0.0625, 'entropy = 0.971\\nsamples = 10\\nvalue = [6, 0, 4]'),\n",
       " Text(0.6923076923076923, 0.3125, 'X[1] <= 65.168\\nentropy = 1.406\\nsamples = 8\\nvalue = [4, 1, 3]'),\n",
       " Text(0.6615384615384615, 0.1875, 'X[2] <= 16.323\\nentropy = 1.5\\nsamples = 4\\nvalue = [2, 1, 1]'),\n",
       " Text(0.6461538461538462, 0.0625, 'entropy = 0.0\\nsamples = 2\\nvalue = [2, 0, 0]'),\n",
       " Text(0.676923076923077, 0.0625, 'entropy = 1.0\\nsamples = 2\\nvalue = [0, 1, 1]'),\n",
       " Text(0.7230769230769231, 0.1875, 'X[3] <= 288.545\\nentropy = 1.0\\nsamples = 4\\nvalue = [2, 0, 2]'),\n",
       " Text(0.7076923076923077, 0.0625, 'entropy = 0.0\\nsamples = 2\\nvalue = [2, 0, 0]'),\n",
       " Text(0.7384615384615385, 0.0625, 'entropy = 0.0\\nsamples = 2\\nvalue = [0, 0, 2]'),\n",
       " Text(0.8923076923076924, 0.8125, 'X[13] <= 0.242\\nentropy = 0.94\\nsamples = 58\\nvalue = [44, 2, 12]'),\n",
       " Text(0.8307692307692308, 0.6875, 'X[5] <= 70.947\\nentropy = 1.382\\nsamples = 18\\nvalue = [9, 2, 7]'),\n",
       " Text(0.8153846153846154, 0.5625, 'X[4] <= 122.696\\nentropy = 0.971\\nsamples = 15\\nvalue = [9, 0, 6]'),\n",
       " Text(0.7846153846153846, 0.4375, 'X[3] <= 233.715\\nentropy = 0.764\\nsamples = 9\\nvalue = [7, 0, 2]'),\n",
       " Text(0.7692307692307693, 0.3125, 'entropy = 0.0\\nsamples = 3\\nvalue = [3, 0, 0]'),\n",
       " Text(0.8, 0.3125, 'X[6] <= 15.593\\nentropy = 0.918\\nsamples = 6\\nvalue = [4, 0, 2]'),\n",
       " Text(0.7846153846153846, 0.1875, 'X[4] <= 97.905\\nentropy = 1.0\\nsamples = 4\\nvalue = [2, 0, 2]'),\n",
       " Text(0.7692307692307693, 0.0625, 'entropy = 0.0\\nsamples = 2\\nvalue = [2, 0, 0]'),\n",
       " Text(0.8, 0.0625, 'entropy = 0.0\\nsamples = 2\\nvalue = [0, 0, 2]'),\n",
       " Text(0.8153846153846154, 0.1875, 'entropy = 0.0\\nsamples = 2\\nvalue = [2, 0, 0]'),\n",
       " Text(0.8461538461538461, 0.4375, 'X[5] <= 43.402\\nentropy = 0.918\\nsamples = 6\\nvalue = [2, 0, 4]'),\n",
       " Text(0.8307692307692308, 0.3125, 'entropy = 0.918\\nsamples = 3\\nvalue = [2, 0, 1]'),\n",
       " Text(0.8615384615384616, 0.3125, 'entropy = 0.0\\nsamples = 3\\nvalue = [0, 0, 3]'),\n",
       " Text(0.8461538461538461, 0.5625, 'entropy = 0.918\\nsamples = 3\\nvalue = [0, 2, 1]'),\n",
       " Text(0.9538461538461539, 0.6875, 'X[3] <= 379.687\\nentropy = 0.544\\nsamples = 40\\nvalue = [35, 0, 5]'),\n",
       " Text(0.9384615384615385, 0.5625, 'X[4] <= 136.651\\nentropy = 0.637\\nsamples = 31\\nvalue = [26, 0, 5]'),\n",
       " Text(0.9076923076923077, 0.4375, 'X[3] <= 330.828\\nentropy = 0.242\\nsamples = 25\\nvalue = [24, 0, 1]'),\n",
       " Text(0.8923076923076924, 0.3125, 'entropy = 0.0\\nsamples = 19\\nvalue = [19, 0, 0]'),\n",
       " Text(0.9230769230769231, 0.3125, 'X[10] <= 0.355\\nentropy = 0.65\\nsamples = 6\\nvalue = [5, 0, 1]'),\n",
       " Text(0.9076923076923077, 0.1875, 'X[2] <= 12.257\\nentropy = 0.811\\nsamples = 4\\nvalue = [3, 0, 1]'),\n",
       " Text(0.8923076923076924, 0.0625, 'entropy = 1.0\\nsamples = 2\\nvalue = [1, 0, 1]'),\n",
       " Text(0.9230769230769231, 0.0625, 'entropy = 0.0\\nsamples = 2\\nvalue = [2, 0, 0]'),\n",
       " Text(0.9384615384615385, 0.1875, 'entropy = 0.0\\nsamples = 2\\nvalue = [2, 0, 0]'),\n",
       " Text(0.9692307692307692, 0.4375, 'X[3] <= 242.643\\nentropy = 0.918\\nsamples = 6\\nvalue = [2, 0, 4]'),\n",
       " Text(0.9538461538461539, 0.3125, 'entropy = 0.0\\nsamples = 3\\nvalue = [0, 0, 3]'),\n",
       " Text(0.9846153846153847, 0.3125, 'entropy = 0.918\\nsamples = 3\\nvalue = [2, 0, 1]'),\n",
       " Text(0.9692307692307692, 0.5625, 'entropy = 0.0\\nsamples = 9\\nvalue = [9, 0, 0]')]"
      ]
     },
     "execution_count": 26,
     "metadata": {},
     "output_type": "execute_result"
    },
    {
     "data": {
      "image/png": "[encoded data removed]",
      "text/plain": [
       "<Figure size 1200x1200 with 1 Axes>"
      ]
     },
     "metadata": {
      "needs_background": "light"
     },
     "output_type": "display_data"
    }
   ],
   "source": [
    "from sklearn import tree\n",
    "fig, axes = plt.subplots(nrows = 1,ncols = 1,figsize = (4,4), dpi=300)\n",
    "tree.plot_tree(dt_clf_2)"
   ]
  }
 ],
 "metadata": {
  "kernelspec": {
   "display_name": "Python 3 (ipykernel)",
   "language": "python",
   "name": "python3"
  },
  "language_info": {
   "codemirror_mode": {
    "name": "ipython",
    "version": 3
   },
   "file_extension": ".py",
   "mimetype": "text/x-python",
   "name": "python",
   "nbconvert_exporter": "python",
   "pygments_lexer": "ipython3",
   "version": "3.9.7"
  },
  "papermill": {
   "default_parameters": {},
   "duration": 18.335739,
   "end_time": "2023-01-15T01:19:43.150099",
   "environment_variables": {},
   "exception": null,
   "input_path": "__notebook__.ipynb",
   "output_path": "__notebook__.ipynb",
   "parameters": {},
   "start_time": "2023-01-15T01:19:24.814360",
   "version": "2.3.4"
  },
  "widgets": {
   "application/vnd.jupyter.widget-state+json": {
    "state": {},
    "version_major": 2,
    "version_minor": 0
   }
  }
 },
 "nbformat": 4,
 "nbformat_minor": 5
}
